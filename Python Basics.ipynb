{
 "cells": [
  {
   "cell_type": "markdown",
   "id": "ddd02081",
   "metadata": {},
   "source": [
    "#### Variables\n",
    "\n",
    "Variables are containers that hold data"
   ]
  },
  {
   "cell_type": "code",
   "execution_count": 3,
   "id": "d351d95e",
   "metadata": {},
   "outputs": [],
   "source": [
    "age = 28\n",
    "\n",
    "# = is an assignment operator"
   ]
  },
  {
   "cell_type": "code",
   "execution_count": 6,
   "id": "a08e697a",
   "metadata": {},
   "outputs": [
    {
     "name": "stdout",
     "output_type": "stream",
     "text": [
      "28\n"
     ]
    }
   ],
   "source": [
    "print(age)"
   ]
  },
  {
   "cell_type": "code",
   "execution_count": 9,
   "id": "13123baa",
   "metadata": {},
   "outputs": [],
   "source": [
    "name = \"Onyinye\""
   ]
  },
  {
   "cell_type": "code",
   "execution_count": 10,
   "id": "0e6a947a",
   "metadata": {},
   "outputs": [
    {
     "name": "stdout",
     "output_type": "stream",
     "text": [
      "onyinye\n"
     ]
    }
   ],
   "source": [
    "print(name)"
   ]
  },
  {
   "cell_type": "code",
   "execution_count": 11,
   "id": "e01b0865",
   "metadata": {},
   "outputs": [],
   "source": [
    "Age = 24"
   ]
  },
  {
   "cell_type": "code",
   "execution_count": 14,
   "id": "867862b0",
   "metadata": {},
   "outputs": [
    {
     "name": "stdout",
     "output_type": "stream",
     "text": [
      "24\n"
     ]
    }
   ],
   "source": [
    "print(Age)\n",
    "\n",
    "# Variable names are not case sensitive"
   ]
  },
  {
   "cell_type": "code",
   "execution_count": 13,
   "id": "35311967",
   "metadata": {},
   "outputs": [
    {
     "name": "stdout",
     "output_type": "stream",
     "text": [
      "28\n"
     ]
    }
   ],
   "source": [
    "print(age)"
   ]
  },
  {
   "cell_type": "markdown",
   "id": "990eebe0",
   "metadata": {},
   "source": [
    "### Conventions for naming variables\n",
    "\n",
    "- Variable name must start with a letter or an underscore (enforced)\n",
    "\n",
    "- Variables using lowercase excepts if they are constant.\n",
    "\n",
    "- Seperate variable names with more than one word with an underscore (snake casing)\n",
    "\n",
    "- Variable names should be descriptive"
   ]
  },
  {
   "cell_type": "code",
   "execution_count": 17,
   "id": "9ba8b007",
   "metadata": {},
   "outputs": [],
   "source": [
    "first_name = \"Hamad\"\n",
    "last_name =  \"Abdul\""
   ]
  },
  {
   "cell_type": "code",
   "execution_count": 19,
   "id": "743d4f8f",
   "metadata": {},
   "outputs": [],
   "source": [
    "# Variable re-assignment\n",
    "\n",
    "age = 30"
   ]
  },
  {
   "cell_type": "code",
   "execution_count": 20,
   "id": "05bfd682",
   "metadata": {},
   "outputs": [
    {
     "name": "stdout",
     "output_type": "stream",
     "text": [
      "30\n"
     ]
    }
   ],
   "source": [
    "print(age)"
   ]
  },
  {
   "cell_type": "code",
   "execution_count": 21,
   "id": "e7011d7e",
   "metadata": {},
   "outputs": [],
   "source": [
    "PI = 3.142"
   ]
  },
  {
   "cell_type": "code",
   "execution_count": 22,
   "id": "570f39a9",
   "metadata": {},
   "outputs": [],
   "source": [
    "city = \"Lagos\""
   ]
  },
  {
   "cell_type": "markdown",
   "id": "d6fa6417",
   "metadata": {},
   "source": [
    "### Data Types\n",
    "\n",
    "Represent the different types of data/values that we can store in a variable"
   ]
  },
  {
   "cell_type": "markdown",
   "id": "fbd75df3",
   "metadata": {},
   "source": [
    "#### Number \n",
    "\n",
    "- Integer : whole numbers\n",
    "\n",
    "- Float : Decimal numbers"
   ]
  },
  {
   "cell_type": "code",
   "execution_count": 23,
   "id": "921e9a37",
   "metadata": {},
   "outputs": [],
   "source": [
    "score = 60 \n",
    "\n",
    "# infer the type of the data"
   ]
  },
  {
   "cell_type": "code",
   "execution_count": 24,
   "id": "ebf85bbd",
   "metadata": {},
   "outputs": [
    {
     "data": {
      "text/plain": [
       "int"
      ]
     },
     "execution_count": 24,
     "metadata": {},
     "output_type": "execute_result"
    }
   ],
   "source": [
    "type(score)"
   ]
  },
  {
   "cell_type": "code",
   "execution_count": 30,
   "id": "ec2ba8dd",
   "metadata": {},
   "outputs": [],
   "source": [
    "height = 50.5"
   ]
  },
  {
   "cell_type": "code",
   "execution_count": 31,
   "id": "53a348b1",
   "metadata": {},
   "outputs": [
    {
     "data": {
      "text/plain": [
       "float"
      ]
     },
     "execution_count": 31,
     "metadata": {},
     "output_type": "execute_result"
    }
   ],
   "source": [
    "type(height)"
   ]
  },
  {
   "cell_type": "markdown",
   "id": "5fde1b64",
   "metadata": {},
   "source": [
    "The data type of the value you store in a variable would determine what you can do with it"
   ]
  },
  {
   "cell_type": "markdown",
   "id": "cbc29074",
   "metadata": {},
   "source": [
    "#### String\n",
    "\n",
    "Combination of characters"
   ]
  },
  {
   "cell_type": "code",
   "execution_count": 32,
   "id": "79067fa3",
   "metadata": {},
   "outputs": [],
   "source": [
    "name = \"Deborah\""
   ]
  },
  {
   "cell_type": "code",
   "execution_count": 33,
   "id": "0c862653",
   "metadata": {},
   "outputs": [
    {
     "data": {
      "text/plain": [
       "str"
      ]
     },
     "execution_count": 33,
     "metadata": {},
     "output_type": "execute_result"
    }
   ],
   "source": [
    "type(name)"
   ]
  },
  {
   "cell_type": "markdown",
   "id": "159bc82f",
   "metadata": {},
   "source": [
    "#### Boolean\n",
    "\n",
    "truth value of a condition"
   ]
  },
  {
   "cell_type": "code",
   "execution_count": 36,
   "id": "928fc9e7",
   "metadata": {},
   "outputs": [],
   "source": [
    "is_raining = False"
   ]
  },
  {
   "cell_type": "code",
   "execution_count": 37,
   "id": "9d41bdb8",
   "metadata": {},
   "outputs": [
    {
     "data": {
      "text/plain": [
       "bool"
      ]
     },
     "execution_count": 37,
     "metadata": {},
     "output_type": "execute_result"
    }
   ],
   "source": [
    "type(is_raining)"
   ]
  },
  {
   "cell_type": "markdown",
   "id": "7801b627",
   "metadata": {},
   "source": [
    "#### Comments\n",
    "\n",
    "- What the programmer writes to explain his code. \n",
    "\n",
    "**single line comment** \n",
    "\n",
    "**multi-line comment**"
   ]
  },
  {
   "cell_type": "code",
   "execution_count": 38,
   "id": "fc90efdc",
   "metadata": {},
   "outputs": [],
   "source": [
    "# the variable stores the value that tells us whether or not the weather is hot\n",
    "\n",
    "is_weather_hot = False"
   ]
  },
  {
   "cell_type": "code",
   "execution_count": 41,
   "id": "9f2b9de0",
   "metadata": {},
   "outputs": [
    {
     "name": "stdout",
     "output_type": "stream",
     "text": [
      "9\n"
     ]
    }
   ],
   "source": [
    "'''\n",
    "This is a multi\n",
    "line comment\n",
    "'''\n",
    "\n",
    "print(9)"
   ]
  },
  {
   "cell_type": "markdown",
   "id": "7c00ea5f",
   "metadata": {},
   "source": [
    "#### Python Operators\n",
    "\n",
    "#### Arithmetic Operators"
   ]
  },
  {
   "cell_type": "code",
   "execution_count": 42,
   "id": "b20abff1",
   "metadata": {},
   "outputs": [],
   "source": [
    "test_score = 20\n",
    "exam_score = 40"
   ]
  },
  {
   "cell_type": "code",
   "execution_count": 43,
   "id": "9b502d8e",
   "metadata": {},
   "outputs": [
    {
     "data": {
      "text/plain": [
       "60"
      ]
     },
     "execution_count": 43,
     "metadata": {},
     "output_type": "execute_result"
    }
   ],
   "source": [
    "# Arithmetic operators\n",
    "\n",
    "test_score + exam_score"
   ]
  },
  {
   "cell_type": "code",
   "execution_count": 44,
   "id": "1dec4fd4",
   "metadata": {},
   "outputs": [
    {
     "data": {
      "text/plain": [
       "-20"
      ]
     },
     "execution_count": 44,
     "metadata": {},
     "output_type": "execute_result"
    }
   ],
   "source": [
    "test_score - exam_score"
   ]
  },
  {
   "cell_type": "code",
   "execution_count": 45,
   "id": "65314024",
   "metadata": {},
   "outputs": [
    {
     "data": {
      "text/plain": [
       "800"
      ]
     },
     "execution_count": 45,
     "metadata": {},
     "output_type": "execute_result"
    }
   ],
   "source": [
    "test_score * exam_score"
   ]
  },
  {
   "cell_type": "code",
   "execution_count": 46,
   "id": "134873ed",
   "metadata": {},
   "outputs": [
    {
     "data": {
      "text/plain": [
       "2.0"
      ]
     },
     "execution_count": 46,
     "metadata": {},
     "output_type": "execute_result"
    }
   ],
   "source": [
    "exam_score / test_score"
   ]
  },
  {
   "cell_type": "code",
   "execution_count": 1,
   "id": "2d041db2",
   "metadata": {},
   "outputs": [
    {
     "data": {
      "text/plain": [
       "8"
      ]
     },
     "execution_count": 1,
     "metadata": {},
     "output_type": "execute_result"
    }
   ],
   "source": [
    "2 ** 3 \n",
    "\n",
    "# exponential"
   ]
  },
  {
   "cell_type": "code",
   "execution_count": 49,
   "id": "227ce92c",
   "metadata": {},
   "outputs": [
    {
     "data": {
      "text/plain": [
       "0"
      ]
     },
     "execution_count": 49,
     "metadata": {},
     "output_type": "execute_result"
    }
   ],
   "source": [
    "# modulo operator\n",
    "\n",
    "4 % 2"
   ]
  },
  {
   "cell_type": "code",
   "execution_count": 52,
   "id": "8d34e6dc",
   "metadata": {},
   "outputs": [
    {
     "data": {
      "text/plain": [
       "1"
      ]
     },
     "execution_count": 52,
     "metadata": {},
     "output_type": "execute_result"
    }
   ],
   "source": [
    "5 % 2"
   ]
  },
  {
   "cell_type": "code",
   "execution_count": 2,
   "id": "8ad56585",
   "metadata": {},
   "outputs": [
    {
     "data": {
      "text/plain": [
       "2"
      ]
     },
     "execution_count": 2,
     "metadata": {},
     "output_type": "execute_result"
    }
   ],
   "source": [
    "# floor division\n",
    "\n",
    "5 // 2"
   ]
  },
  {
   "cell_type": "code",
   "execution_count": 4,
   "id": "1af82cc3",
   "metadata": {},
   "outputs": [
    {
     "data": {
      "text/plain": [
       "3"
      ]
     },
     "execution_count": 4,
     "metadata": {},
     "output_type": "execute_result"
    }
   ],
   "source": [
    "10 // 3"
   ]
  },
  {
   "cell_type": "code",
   "execution_count": 10,
   "id": "6d30ee4f",
   "metadata": {},
   "outputs": [
    {
     "name": "stdout",
     "output_type": "stream",
     "text": [
      "No of hr :  8\n",
      "No of min :  20\n"
     ]
    }
   ],
   "source": [
    "duration = 500 \n",
    "\n",
    "no_of_hr = duration // 60\n",
    "\n",
    "no_of_min = duration % 60\n",
    "\n",
    "print('No of hr : ', no_of_hr)\n",
    "print('No of min : ', no_of_min)"
   ]
  },
  {
   "cell_type": "markdown",
   "id": "fa24132a",
   "metadata": {},
   "source": [
    "#### Comparison Operators"
   ]
  },
  {
   "cell_type": "code",
   "execution_count": 24,
   "id": "dfac4b8e",
   "metadata": {},
   "outputs": [],
   "source": [
    "x = 4\n",
    "y = 5"
   ]
  },
  {
   "cell_type": "code",
   "execution_count": 14,
   "id": "71c140e3",
   "metadata": {},
   "outputs": [
    {
     "data": {
      "text/plain": [
       "True"
      ]
     },
     "execution_count": 14,
     "metadata": {},
     "output_type": "execute_result"
    }
   ],
   "source": [
    "x == y"
   ]
  },
  {
   "cell_type": "code",
   "execution_count": 15,
   "id": "2acafb37",
   "metadata": {},
   "outputs": [
    {
     "data": {
      "text/plain": [
       "False"
      ]
     },
     "execution_count": 15,
     "metadata": {},
     "output_type": "execute_result"
    }
   ],
   "source": [
    "x != y"
   ]
  },
  {
   "cell_type": "code",
   "execution_count": 16,
   "id": "cfd3fc63",
   "metadata": {},
   "outputs": [
    {
     "data": {
      "text/plain": [
       "False"
      ]
     },
     "execution_count": 16,
     "metadata": {},
     "output_type": "execute_result"
    }
   ],
   "source": [
    "x < y"
   ]
  },
  {
   "cell_type": "code",
   "execution_count": 19,
   "id": "c29c296a",
   "metadata": {},
   "outputs": [
    {
     "data": {
      "text/plain": [
       "True"
      ]
     },
     "execution_count": 19,
     "metadata": {},
     "output_type": "execute_result"
    }
   ],
   "source": [
    "x > y"
   ]
  },
  {
   "cell_type": "code",
   "execution_count": 22,
   "id": "99143df1",
   "metadata": {},
   "outputs": [
    {
     "data": {
      "text/plain": [
       "True"
      ]
     },
     "execution_count": 22,
     "metadata": {},
     "output_type": "execute_result"
    }
   ],
   "source": [
    "x <= y"
   ]
  },
  {
   "cell_type": "code",
   "execution_count": 26,
   "id": "ac8d7d88",
   "metadata": {},
   "outputs": [
    {
     "data": {
      "text/plain": [
       "False"
      ]
     },
     "execution_count": 26,
     "metadata": {},
     "output_type": "execute_result"
    }
   ],
   "source": [
    "x >= y"
   ]
  },
  {
   "cell_type": "markdown",
   "id": "329cd8c3",
   "metadata": {},
   "source": [
    "#### Logical Operators"
   ]
  },
  {
   "cell_type": "code",
   "execution_count": 27,
   "id": "ac2a7db0",
   "metadata": {},
   "outputs": [
    {
     "data": {
      "text/plain": [
       "False"
      ]
     },
     "execution_count": 27,
     "metadata": {},
     "output_type": "execute_result"
    }
   ],
   "source": [
    "x = 10\n",
    "y = 5\n",
    "z = 7\n",
    "\n",
    "x < y and y < z"
   ]
  },
  {
   "cell_type": "code",
   "execution_count": 28,
   "id": "20afd69f",
   "metadata": {},
   "outputs": [
    {
     "data": {
      "text/plain": [
       "False"
      ]
     },
     "execution_count": 28,
     "metadata": {},
     "output_type": "execute_result"
    }
   ],
   "source": [
    "4 == 5 and 5 < 6"
   ]
  },
  {
   "cell_type": "code",
   "execution_count": 29,
   "id": "f93db1b1",
   "metadata": {},
   "outputs": [
    {
     "data": {
      "text/plain": [
       "True"
      ]
     },
     "execution_count": 29,
     "metadata": {},
     "output_type": "execute_result"
    }
   ],
   "source": [
    "x < y or y < z "
   ]
  },
  {
   "cell_type": "markdown",
   "id": "91d65677",
   "metadata": {},
   "source": [
    "#### Membership Operator"
   ]
  },
  {
   "cell_type": "code",
   "execution_count": 1,
   "id": "cfc85d5d",
   "metadata": {},
   "outputs": [
    {
     "name": "stdout",
     "output_type": "stream",
     "text": [
      "True\n"
     ]
    }
   ],
   "source": [
    "scores = [10, 20, 30, 40, 50, 60]\n",
    "\n",
    "result = 10 in scores\n",
    "\n",
    "print(result)"
   ]
  },
  {
   "cell_type": "code",
   "execution_count": 2,
   "id": "d0d4d504",
   "metadata": {},
   "outputs": [
    {
     "name": "stdout",
     "output_type": "stream",
     "text": [
      "False\n"
     ]
    }
   ],
   "source": [
    "result = 10 not in scores\n",
    "print(result)"
   ]
  },
  {
   "cell_type": "markdown",
   "id": "68a0ce91",
   "metadata": {},
   "source": [
    "#### Type Casting"
   ]
  },
  {
   "cell_type": "code",
   "execution_count": 30,
   "id": "887d3479",
   "metadata": {},
   "outputs": [],
   "source": [
    "score = \"70\""
   ]
  },
  {
   "cell_type": "code",
   "execution_count": 31,
   "id": "442782f9",
   "metadata": {},
   "outputs": [
    {
     "data": {
      "text/plain": [
       "str"
      ]
     },
     "execution_count": 31,
     "metadata": {},
     "output_type": "execute_result"
    }
   ],
   "source": [
    "type(score)"
   ]
  },
  {
   "cell_type": "code",
   "execution_count": 32,
   "id": "29d88b52",
   "metadata": {},
   "outputs": [
    {
     "ename": "TypeError",
     "evalue": "can only concatenate str (not \"int\") to str",
     "output_type": "error",
     "traceback": [
      "\u001b[1;31m---------------------------------------------------------------------------\u001b[0m",
      "\u001b[1;31mTypeError\u001b[0m                                 Traceback (most recent call last)",
      "Cell \u001b[1;32mIn[32], line 1\u001b[0m\n\u001b[1;32m----> 1\u001b[0m score \u001b[38;5;241m+\u001b[39m \u001b[38;5;241m10\u001b[39m\n",
      "\u001b[1;31mTypeError\u001b[0m: can only concatenate str (not \"int\") to str"
     ]
    }
   ],
   "source": [
    "score + 10"
   ]
  },
  {
   "cell_type": "markdown",
   "id": "e036fe73",
   "metadata": {},
   "source": [
    "#### Data Types and their constructor\n",
    "\n",
    "- Integer - int()\n",
    "- String - str()\n",
    "- float - float()\n",
    "- Boolean - bool()"
   ]
  },
  {
   "cell_type": "code",
   "execution_count": 33,
   "id": "c8ea2e22",
   "metadata": {},
   "outputs": [],
   "source": [
    "score = int(score)"
   ]
  },
  {
   "cell_type": "code",
   "execution_count": 35,
   "id": "4043fc55",
   "metadata": {},
   "outputs": [
    {
     "data": {
      "text/plain": [
       "int"
      ]
     },
     "execution_count": 35,
     "metadata": {},
     "output_type": "execute_result"
    }
   ],
   "source": [
    "type(score)"
   ]
  },
  {
   "cell_type": "code",
   "execution_count": 36,
   "id": "47bd0ed1",
   "metadata": {},
   "outputs": [
    {
     "data": {
      "text/plain": [
       "80"
      ]
     },
     "execution_count": 36,
     "metadata": {},
     "output_type": "execute_result"
    }
   ],
   "source": [
    "score + 10"
   ]
  },
  {
   "cell_type": "code",
   "execution_count": 37,
   "id": "ebb1a889",
   "metadata": {},
   "outputs": [],
   "source": [
    "name = \"Deborah\""
   ]
  },
  {
   "cell_type": "code",
   "execution_count": 38,
   "id": "98e99921",
   "metadata": {},
   "outputs": [
    {
     "ename": "ValueError",
     "evalue": "invalid literal for int() with base 10: 'Deborah'",
     "output_type": "error",
     "traceback": [
      "\u001b[1;31m---------------------------------------------------------------------------\u001b[0m",
      "\u001b[1;31mValueError\u001b[0m                                Traceback (most recent call last)",
      "Cell \u001b[1;32mIn[38], line 1\u001b[0m\n\u001b[1;32m----> 1\u001b[0m \u001b[38;5;28mint\u001b[39m(name)\n",
      "\u001b[1;31mValueError\u001b[0m: invalid literal for int() with base 10: 'Deborah'"
     ]
    }
   ],
   "source": [
    "int(name)"
   ]
  },
  {
   "cell_type": "code",
   "execution_count": 71,
   "id": "950e0804",
   "metadata": {},
   "outputs": [
    {
     "name": "stdout",
     "output_type": "stream",
     "text": [
      "enter the current price: 600\n",
      "The discounted price is 480.0\n",
      "The discounted price is 480.0\n",
      "The discounted price is 480.0\n"
     ]
    }
   ],
   "source": [
    "# User Input\n",
    "\n",
    "current_price = input(\"enter the current price: \") # create an input box and assign the value to current_price\n",
    "current_price = float(current_price) # cast the current_price and re-assign the value \n",
    "discounted_price = current_price * 0.8 # \n",
    "print(\"The discounted price is\",discounted_price)\n",
    "print(f\"The discounted price is {discounted_price}\")\n",
    "print('The discounted price is {}'.format(discounted_price))"
   ]
  },
  {
   "cell_type": "markdown",
   "id": "8c1c506f",
   "metadata": {},
   "source": [
    "#### Exercise\n",
    "\n",
    "Using the input function, take the exam score and test score of a student and return the total score"
   ]
  },
  {
   "cell_type": "code",
   "execution_count": 50,
   "id": "54085acb",
   "metadata": {},
   "outputs": [
    {
     "name": "stdout",
     "output_type": "stream",
     "text": [
      "Enter your exam score : 50\n",
      "Enter your test score : 30\n",
      "80\n"
     ]
    }
   ],
   "source": [
    "exam_score = int(input('Enter your exam score : '))\n",
    "test_score = int(input('Enter your test score : '))\n",
    "total_score = exam_score + test_score\n",
    "print(total_score)"
   ]
  },
  {
   "cell_type": "markdown",
   "id": "5743d160",
   "metadata": {},
   "source": [
    "#### Strings"
   ]
  },
  {
   "cell_type": "code",
   "execution_count": 51,
   "id": "269e9d6e",
   "metadata": {},
   "outputs": [],
   "source": [
    "name = \"Debby\""
   ]
  },
  {
   "cell_type": "code",
   "execution_count": 52,
   "id": "23ee81da",
   "metadata": {},
   "outputs": [
    {
     "data": {
      "text/plain": [
       "str"
      ]
     },
     "execution_count": 52,
     "metadata": {},
     "output_type": "execute_result"
    }
   ],
   "source": [
    "type(name)"
   ]
  },
  {
   "cell_type": "markdown",
   "id": "b0375895",
   "metadata": {},
   "source": [
    "#### String Indexing"
   ]
  },
  {
   "cell_type": "code",
   "execution_count": 53,
   "id": "c4f874c5",
   "metadata": {},
   "outputs": [
    {
     "data": {
      "text/plain": [
       "'D'"
      ]
     },
     "execution_count": 53,
     "metadata": {},
     "output_type": "execute_result"
    }
   ],
   "source": [
    "name[0]"
   ]
  },
  {
   "cell_type": "code",
   "execution_count": 54,
   "id": "6822ee19",
   "metadata": {},
   "outputs": [
    {
     "data": {
      "text/plain": [
       "'y'"
      ]
     },
     "execution_count": 54,
     "metadata": {},
     "output_type": "execute_result"
    }
   ],
   "source": [
    "name[4]"
   ]
  },
  {
   "cell_type": "code",
   "execution_count": 55,
   "id": "ed375785",
   "metadata": {},
   "outputs": [
    {
     "data": {
      "text/plain": [
       "'D'"
      ]
     },
     "execution_count": 55,
     "metadata": {},
     "output_type": "execute_result"
    }
   ],
   "source": [
    "name[-5]"
   ]
  },
  {
   "cell_type": "code",
   "execution_count": 56,
   "id": "6de29532",
   "metadata": {},
   "outputs": [
    {
     "data": {
      "text/plain": [
       "'b'"
      ]
     },
     "execution_count": 56,
     "metadata": {},
     "output_type": "execute_result"
    }
   ],
   "source": [
    "name[-3]"
   ]
  },
  {
   "cell_type": "markdown",
   "id": "a1cbb007",
   "metadata": {},
   "source": [
    "#### String Slicing"
   ]
  },
  {
   "cell_type": "code",
   "execution_count": 57,
   "id": "7968e363",
   "metadata": {},
   "outputs": [],
   "source": [
    "text = \"My name is Onyinye\""
   ]
  },
  {
   "cell_type": "code",
   "execution_count": 58,
   "id": "6fcb1e4e",
   "metadata": {},
   "outputs": [
    {
     "data": {
      "text/plain": [
       "str"
      ]
     },
     "execution_count": 58,
     "metadata": {},
     "output_type": "execute_result"
    }
   ],
   "source": [
    "type(text)"
   ]
  },
  {
   "cell_type": "code",
   "execution_count": 61,
   "id": "6ef15929",
   "metadata": {},
   "outputs": [
    {
     "data": {
      "text/plain": [
       "'Onyinye'"
      ]
     },
     "execution_count": 61,
     "metadata": {},
     "output_type": "execute_result"
    }
   ],
   "source": [
    "text[11:18]"
   ]
  },
  {
   "cell_type": "code",
   "execution_count": 62,
   "id": "3e55070c",
   "metadata": {},
   "outputs": [
    {
     "data": {
      "text/plain": [
       "'Onyinye'"
      ]
     },
     "execution_count": 62,
     "metadata": {},
     "output_type": "execute_result"
    }
   ],
   "source": [
    "text[11:]"
   ]
  },
  {
   "cell_type": "markdown",
   "id": "eecf943f",
   "metadata": {},
   "source": [
    "#### Exercise\n",
    "\n",
    "Slice out 'name' from the text variable. Assign it to a new variable and print out the new variable"
   ]
  },
  {
   "cell_type": "code",
   "execution_count": 63,
   "id": "a3b9bfb9",
   "metadata": {},
   "outputs": [
    {
     "name": "stdout",
     "output_type": "stream",
     "text": [
      "name\n"
     ]
    }
   ],
   "source": [
    "name = text[3:7]\n",
    "print(name)"
   ]
  },
  {
   "cell_type": "code",
   "execution_count": 68,
   "id": "76a33d80",
   "metadata": {},
   "outputs": [
    {
     "name": "stdout",
     "output_type": "stream",
     "text": [
      "The total score is 90\n",
      "The total score is 90\n",
      "The total score is 90\n"
     ]
    }
   ],
   "source": [
    "### String Formatting\n",
    "\n",
    "test_score = 40\n",
    "exam_score = 50\n",
    "\n",
    "total_score = test_score + exam_score\n",
    "\n",
    "\n",
    "# 1st Mtd\n",
    "print(\"The total score is\", total_score)\n",
    "\n",
    "# 2nd Mtd\n",
    "print(f\"The total score is {total_score}\")\n",
    "\n",
    "# 3rd Mtd\n",
    "print(\"The total score is {}\".format(total_score))"
   ]
  },
  {
   "cell_type": "code",
   "execution_count": 77,
   "id": "b77ab200",
   "metadata": {},
   "outputs": [
    {
     "name": "stdout",
     "output_type": "stream",
     "text": [
      "your test score is 40 and your exam score is 50\n"
     ]
    }
   ],
   "source": [
    "test_score = 40\n",
    "exam_score = 50\n",
    "\n",
    "print(\"your test score is\",test_score, \"and your exam score is\",exam_score)"
   ]
  },
  {
   "cell_type": "code",
   "execution_count": 78,
   "id": "f85ce09d",
   "metadata": {},
   "outputs": [
    {
     "name": "stdout",
     "output_type": "stream",
     "text": [
      "Your test score is 40 and your exam score is 50\n"
     ]
    }
   ],
   "source": [
    "print(f'Your test score is {test_score} and your exam score is {exam_score}')"
   ]
  },
  {
   "cell_type": "code",
   "execution_count": 80,
   "id": "2acac03d",
   "metadata": {},
   "outputs": [
    {
     "name": "stdout",
     "output_type": "stream",
     "text": [
      "Your test score is 40 and your exam score is 50\n"
     ]
    }
   ],
   "source": [
    "print('Your test score is {} and your exam score is {}'.format(test_score, exam_score))"
   ]
  },
  {
   "cell_type": "markdown",
   "id": "60168393",
   "metadata": {},
   "source": [
    "#### String Methods\n",
    "\n",
    "Methods are built-in functions that allow you to manipulate objects of a specific data type"
   ]
  },
  {
   "cell_type": "code",
   "execution_count": 81,
   "id": "53a7dda4",
   "metadata": {},
   "outputs": [],
   "source": [
    "name = \"Deborah\"\n",
    "\n",
    "# name variable is an object of the string data type"
   ]
  },
  {
   "cell_type": "code",
   "execution_count": 87,
   "id": "d4425a22",
   "metadata": {},
   "outputs": [
    {
     "data": {
      "text/plain": [
       "['__add__',\n",
       " '__class__',\n",
       " '__contains__',\n",
       " '__delattr__',\n",
       " '__dir__',\n",
       " '__doc__',\n",
       " '__eq__',\n",
       " '__format__',\n",
       " '__ge__',\n",
       " '__getattribute__',\n",
       " '__getitem__',\n",
       " '__getnewargs__',\n",
       " '__getstate__',\n",
       " '__gt__',\n",
       " '__hash__',\n",
       " '__init__',\n",
       " '__init_subclass__',\n",
       " '__iter__',\n",
       " '__le__',\n",
       " '__len__',\n",
       " '__lt__',\n",
       " '__mod__',\n",
       " '__mul__',\n",
       " '__ne__',\n",
       " '__new__',\n",
       " '__reduce__',\n",
       " '__reduce_ex__',\n",
       " '__repr__',\n",
       " '__rmod__',\n",
       " '__rmul__',\n",
       " '__setattr__',\n",
       " '__sizeof__',\n",
       " '__str__',\n",
       " '__subclasshook__',\n",
       " 'capitalize',\n",
       " 'casefold',\n",
       " 'center',\n",
       " 'count',\n",
       " 'encode',\n",
       " 'endswith',\n",
       " 'expandtabs',\n",
       " 'find',\n",
       " 'format',\n",
       " 'format_map',\n",
       " 'index',\n",
       " 'isalnum',\n",
       " 'isalpha',\n",
       " 'isascii',\n",
       " 'isdecimal',\n",
       " 'isdigit',\n",
       " 'isidentifier',\n",
       " 'islower',\n",
       " 'isnumeric',\n",
       " 'isprintable',\n",
       " 'isspace',\n",
       " 'istitle',\n",
       " 'isupper',\n",
       " 'join',\n",
       " 'ljust',\n",
       " 'lower',\n",
       " 'lstrip',\n",
       " 'maketrans',\n",
       " 'partition',\n",
       " 'removeprefix',\n",
       " 'removesuffix',\n",
       " 'replace',\n",
       " 'rfind',\n",
       " 'rindex',\n",
       " 'rjust',\n",
       " 'rpartition',\n",
       " 'rsplit',\n",
       " 'rstrip',\n",
       " 'split',\n",
       " 'splitlines',\n",
       " 'startswith',\n",
       " 'strip',\n",
       " 'swapcase',\n",
       " 'title',\n",
       " 'translate',\n",
       " 'upper',\n",
       " 'zfill']"
      ]
     },
     "execution_count": 87,
     "metadata": {},
     "output_type": "execute_result"
    }
   ],
   "source": [
    "dir(name)"
   ]
  },
  {
   "cell_type": "code",
   "execution_count": 133,
   "id": "dbab31f1",
   "metadata": {},
   "outputs": [],
   "source": [
    "name = 'DEBORAH'"
   ]
  },
  {
   "cell_type": "code",
   "execution_count": 134,
   "id": "d64b2158",
   "metadata": {},
   "outputs": [
    {
     "name": "stdout",
     "output_type": "stream",
     "text": [
      "DEBORAH\n"
     ]
    }
   ],
   "source": [
    "print(name)"
   ]
  },
  {
   "cell_type": "code",
   "execution_count": 136,
   "id": "f1cf340f",
   "metadata": {},
   "outputs": [],
   "source": [
    "name = name.lower() #re-assignment"
   ]
  },
  {
   "cell_type": "code",
   "execution_count": 102,
   "id": "ffc515a7",
   "metadata": {},
   "outputs": [
    {
     "name": "stdout",
     "output_type": "stream",
     "text": [
      "deborah\n"
     ]
    }
   ],
   "source": [
    "print(name)"
   ]
  },
  {
   "cell_type": "code",
   "execution_count": 92,
   "id": "8ea5e0f0",
   "metadata": {},
   "outputs": [],
   "source": [
    "name = name.lstrip()"
   ]
  },
  {
   "cell_type": "code",
   "execution_count": 93,
   "id": "a20dbc3c",
   "metadata": {},
   "outputs": [
    {
     "name": "stdout",
     "output_type": "stream",
     "text": [
      "DEBORAH\n"
     ]
    }
   ],
   "source": [
    "print(name)"
   ]
  },
  {
   "cell_type": "code",
   "execution_count": 103,
   "id": "4944cd36",
   "metadata": {},
   "outputs": [],
   "source": [
    "amount = \"N 400\""
   ]
  },
  {
   "cell_type": "code",
   "execution_count": 105,
   "id": "6b50b217",
   "metadata": {},
   "outputs": [],
   "source": [
    "amount = amount.replace(\"N \", \"\")"
   ]
  },
  {
   "cell_type": "code",
   "execution_count": 106,
   "id": "b9b959ce",
   "metadata": {},
   "outputs": [
    {
     "data": {
      "text/plain": [
       "'400'"
      ]
     },
     "execution_count": 106,
     "metadata": {},
     "output_type": "execute_result"
    }
   ],
   "source": [
    "amount"
   ]
  },
  {
   "cell_type": "code",
   "execution_count": 107,
   "id": "ef8e71f0",
   "metadata": {
    "scrolled": true
   },
   "outputs": [
    {
     "data": {
      "text/plain": [
       "400"
      ]
     },
     "execution_count": 107,
     "metadata": {},
     "output_type": "execute_result"
    }
   ],
   "source": [
    "int(amount)"
   ]
  },
  {
   "cell_type": "code",
   "execution_count": 111,
   "id": "7276f471",
   "metadata": {},
   "outputs": [
    {
     "name": "stdout",
     "output_type": "stream",
     "text": [
      "gender_one : male\n",
      "gender two : male\n"
     ]
    }
   ],
   "source": [
    "gender_one = \" MaLE\"\n",
    "gender_two = \"maLLE\"\n",
    "\n",
    "# Method chaining\n",
    "gender_one = gender_one.replace(\" \", \"\").lower()\n",
    "print(f'gender_one : {gender_one}')\n",
    "\n",
    "gender_two = gender_two.replace(\"maLLE\", \"male\")\n",
    "print(f'gender two : {gender_two}')"
   ]
  },
  {
   "cell_type": "code",
   "execution_count": 153,
   "id": "50102648",
   "metadata": {},
   "outputs": [
    {
     "data": {
      "text/plain": [
       "'MaLE'"
      ]
     },
     "execution_count": 153,
     "metadata": {},
     "output_type": "execute_result"
    }
   ],
   "source": [
    "gender_one = \" MaLE\"\n",
    "\n",
    "gender_one.replace(\" \", \"\")"
   ]
  },
  {
   "cell_type": "code",
   "execution_count": 115,
   "id": "5039eeb8",
   "metadata": {},
   "outputs": [
    {
     "name": "stdout",
     "output_type": "stream",
     "text": [
      "Fisayo Olupitan\n"
     ]
    }
   ],
   "source": [
    "## String Concatenation\n",
    "\n",
    "## + operator is used for concatenation\n",
    "\n",
    "first_name = \"Fisayo\"\n",
    "\n",
    "last_name = \"Olupitan\"\n",
    "\n",
    "full_name = first_name + \" \" + last_name\n",
    "\n",
    "print(full_name)"
   ]
  },
  {
   "cell_type": "markdown",
   "id": "5fe52efc",
   "metadata": {},
   "source": [
    "#### Sequence Data Types \n",
    "\n",
    "provide a way for us to store multiple values at the same time\n",
    "\n",
    "- List\n",
    "\n",
    "- Tuple \n",
    "\n",
    "- Set \n",
    "\n",
    "- Dictionary"
   ]
  },
  {
   "cell_type": "code",
   "execution_count": 142,
   "id": "b2254f49",
   "metadata": {},
   "outputs": [],
   "source": [
    "# List \n",
    "\n",
    "names = [\"Debby\", 'Fisayo', 'Fidelis', 'Onyinye', 'Ada']"
   ]
  },
  {
   "cell_type": "code",
   "execution_count": 117,
   "id": "db2153f6",
   "metadata": {},
   "outputs": [
    {
     "data": {
      "text/plain": [
       "list"
      ]
     },
     "execution_count": 117,
     "metadata": {},
     "output_type": "execute_result"
    }
   ],
   "source": [
    "type(names)"
   ]
  },
  {
   "cell_type": "code",
   "execution_count": 118,
   "id": "7dcad2ca",
   "metadata": {},
   "outputs": [],
   "source": [
    "scores = [60, 67, 60, 78, 50]"
   ]
  },
  {
   "cell_type": "code",
   "execution_count": 119,
   "id": "a0aee686",
   "metadata": {},
   "outputs": [
    {
     "data": {
      "text/plain": [
       "list"
      ]
     },
     "execution_count": 119,
     "metadata": {},
     "output_type": "execute_result"
    }
   ],
   "source": [
    "type(scores)"
   ]
  },
  {
   "cell_type": "code",
   "execution_count": 120,
   "id": "054cda76",
   "metadata": {},
   "outputs": [
    {
     "data": {
      "text/plain": [
       "'Debby'"
      ]
     },
     "execution_count": 120,
     "metadata": {},
     "output_type": "execute_result"
    }
   ],
   "source": [
    "# Ordered \n",
    "\n",
    "names[0]"
   ]
  },
  {
   "cell_type": "code",
   "execution_count": 121,
   "id": "2d6db9b7",
   "metadata": {},
   "outputs": [
    {
     "data": {
      "text/plain": [
       "'Onyinye'"
      ]
     },
     "execution_count": 121,
     "metadata": {},
     "output_type": "execute_result"
    }
   ],
   "source": [
    "names[3]"
   ]
  },
  {
   "cell_type": "code",
   "execution_count": 122,
   "id": "c1baa76a",
   "metadata": {},
   "outputs": [
    {
     "data": {
      "text/plain": [
       "'Debby'"
      ]
     },
     "execution_count": 122,
     "metadata": {},
     "output_type": "execute_result"
    }
   ],
   "source": [
    "names[-5]"
   ]
  },
  {
   "cell_type": "code",
   "execution_count": 123,
   "id": "15e6a4c5",
   "metadata": {},
   "outputs": [
    {
     "data": {
      "text/plain": [
       "['__add__',\n",
       " '__class__',\n",
       " '__class_getitem__',\n",
       " '__contains__',\n",
       " '__delattr__',\n",
       " '__delitem__',\n",
       " '__dir__',\n",
       " '__doc__',\n",
       " '__eq__',\n",
       " '__format__',\n",
       " '__ge__',\n",
       " '__getattribute__',\n",
       " '__getitem__',\n",
       " '__getstate__',\n",
       " '__gt__',\n",
       " '__hash__',\n",
       " '__iadd__',\n",
       " '__imul__',\n",
       " '__init__',\n",
       " '__init_subclass__',\n",
       " '__iter__',\n",
       " '__le__',\n",
       " '__len__',\n",
       " '__lt__',\n",
       " '__mul__',\n",
       " '__ne__',\n",
       " '__new__',\n",
       " '__reduce__',\n",
       " '__reduce_ex__',\n",
       " '__repr__',\n",
       " '__reversed__',\n",
       " '__rmul__',\n",
       " '__setattr__',\n",
       " '__setitem__',\n",
       " '__sizeof__',\n",
       " '__str__',\n",
       " '__subclasshook__',\n",
       " 'append',\n",
       " 'clear',\n",
       " 'copy',\n",
       " 'count',\n",
       " 'extend',\n",
       " 'index',\n",
       " 'insert',\n",
       " 'pop',\n",
       " 'remove',\n",
       " 'reverse',\n",
       " 'sort']"
      ]
     },
     "execution_count": 123,
     "metadata": {},
     "output_type": "execute_result"
    }
   ],
   "source": [
    "# mutable - the values can change\n",
    "\n",
    "dir(names)"
   ]
  },
  {
   "cell_type": "code",
   "execution_count": 143,
   "id": "c25be1f2",
   "metadata": {},
   "outputs": [],
   "source": [
    "names.append('Funmi')"
   ]
  },
  {
   "cell_type": "code",
   "execution_count": 144,
   "id": "1a3b51c4",
   "metadata": {},
   "outputs": [
    {
     "data": {
      "text/plain": [
       "['Debby', 'Fisayo', 'Fidelis', 'Onyinye', 'Ada', 'Funmi']"
      ]
     },
     "execution_count": 144,
     "metadata": {},
     "output_type": "execute_result"
    }
   ],
   "source": [
    "names"
   ]
  },
  {
   "cell_type": "code",
   "execution_count": 145,
   "id": "a0b36fed",
   "metadata": {},
   "outputs": [],
   "source": [
    "names.remove(\"Debby\")"
   ]
  },
  {
   "cell_type": "code",
   "execution_count": 146,
   "id": "962b4e79",
   "metadata": {},
   "outputs": [
    {
     "data": {
      "text/plain": [
       "['Fisayo', 'Fidelis', 'Onyinye', 'Ada', 'Funmi']"
      ]
     },
     "execution_count": 146,
     "metadata": {},
     "output_type": "execute_result"
    }
   ],
   "source": [
    "names"
   ]
  },
  {
   "cell_type": "code",
   "execution_count": 148,
   "id": "a791d40c",
   "metadata": {},
   "outputs": [],
   "source": [
    "popped_name = names.pop()"
   ]
  },
  {
   "cell_type": "code",
   "execution_count": 149,
   "id": "1417e4bf",
   "metadata": {},
   "outputs": [
    {
     "data": {
      "text/plain": [
       "['Fisayo', 'Fidelis', 'Onyinye']"
      ]
     },
     "execution_count": 149,
     "metadata": {},
     "output_type": "execute_result"
    }
   ],
   "source": [
    "names"
   ]
  },
  {
   "cell_type": "code",
   "execution_count": 150,
   "id": "8ad8d1b3",
   "metadata": {},
   "outputs": [
    {
     "data": {
      "text/plain": [
       "'Ada'"
      ]
     },
     "execution_count": 150,
     "metadata": {},
     "output_type": "execute_result"
    }
   ],
   "source": [
    "popped_name"
   ]
  },
  {
   "cell_type": "code",
   "execution_count": 151,
   "id": "519d0f80",
   "metadata": {},
   "outputs": [
    {
     "data": {
      "text/plain": [
       "[60, 67, 60, 78, 50]"
      ]
     },
     "execution_count": 151,
     "metadata": {},
     "output_type": "execute_result"
    }
   ],
   "source": [
    "scores"
   ]
  },
  {
   "cell_type": "code",
   "execution_count": 154,
   "id": "712865e1",
   "metadata": {},
   "outputs": [
    {
     "name": "stdout",
     "output_type": "stream",
     "text": [
      "95\n",
      "[67, 60, 78, 50, 90]\n"
     ]
    }
   ],
   "source": [
    "scores.append(95)\n",
    "\n",
    "scores.remove(60)\n",
    "\n",
    "pop_item = scores.pop()\n",
    "\n",
    "print(pop_item)\n",
    "print(scores)"
   ]
  },
  {
   "cell_type": "code",
   "execution_count": 155,
   "id": "b295940a",
   "metadata": {},
   "outputs": [],
   "source": [
    "## List can have duplicates"
   ]
  },
  {
   "cell_type": "markdown",
   "id": "6e6a687f",
   "metadata": {},
   "source": [
    "#### Tuple"
   ]
  },
  {
   "cell_type": "code",
   "execution_count": 166,
   "id": "10329ff0",
   "metadata": {},
   "outputs": [],
   "source": [
    "fruits = (\"apple\", \"pineapple\", \"banana\", \"guava\",\"apple\")"
   ]
  },
  {
   "cell_type": "code",
   "execution_count": 167,
   "id": "6b2d8b29",
   "metadata": {},
   "outputs": [
    {
     "data": {
      "text/plain": [
       "tuple"
      ]
     },
     "execution_count": 167,
     "metadata": {},
     "output_type": "execute_result"
    }
   ],
   "source": [
    "type(fruits)"
   ]
  },
  {
   "cell_type": "code",
   "execution_count": 168,
   "id": "88dccfa0",
   "metadata": {},
   "outputs": [
    {
     "data": {
      "text/plain": [
       "'apple'"
      ]
     },
     "execution_count": 168,
     "metadata": {},
     "output_type": "execute_result"
    }
   ],
   "source": [
    "# it is ordered\n",
    "\n",
    "fruits[0]"
   ]
  },
  {
   "cell_type": "code",
   "execution_count": 169,
   "id": "a7cac6a2",
   "metadata": {},
   "outputs": [
    {
     "data": {
      "text/plain": [
       "'guava'"
      ]
     },
     "execution_count": 169,
     "metadata": {},
     "output_type": "execute_result"
    }
   ],
   "source": [
    "fruits[-2]"
   ]
  },
  {
   "cell_type": "code",
   "execution_count": 170,
   "id": "418d96ad",
   "metadata": {},
   "outputs": [
    {
     "data": {
      "text/plain": [
       "('apple', 'pineapple')"
      ]
     },
     "execution_count": 170,
     "metadata": {},
     "output_type": "execute_result"
    }
   ],
   "source": [
    "fruits[0:2]"
   ]
  },
  {
   "cell_type": "code",
   "execution_count": 171,
   "id": "926f00ed",
   "metadata": {},
   "outputs": [
    {
     "data": {
      "text/plain": [
       "('apple', 'pineapple')"
      ]
     },
     "execution_count": 171,
     "metadata": {},
     "output_type": "execute_result"
    }
   ],
   "source": [
    "fruits[:2]"
   ]
  },
  {
   "cell_type": "code",
   "execution_count": 172,
   "id": "87d7f66b",
   "metadata": {},
   "outputs": [
    {
     "data": {
      "text/plain": [
       "['__add__',\n",
       " '__class__',\n",
       " '__class_getitem__',\n",
       " '__contains__',\n",
       " '__delattr__',\n",
       " '__dir__',\n",
       " '__doc__',\n",
       " '__eq__',\n",
       " '__format__',\n",
       " '__ge__',\n",
       " '__getattribute__',\n",
       " '__getitem__',\n",
       " '__getnewargs__',\n",
       " '__getstate__',\n",
       " '__gt__',\n",
       " '__hash__',\n",
       " '__init__',\n",
       " '__init_subclass__',\n",
       " '__iter__',\n",
       " '__le__',\n",
       " '__len__',\n",
       " '__lt__',\n",
       " '__mul__',\n",
       " '__ne__',\n",
       " '__new__',\n",
       " '__reduce__',\n",
       " '__reduce_ex__',\n",
       " '__repr__',\n",
       " '__rmul__',\n",
       " '__setattr__',\n",
       " '__sizeof__',\n",
       " '__str__',\n",
       " '__subclasshook__',\n",
       " 'count',\n",
       " 'index']"
      ]
     },
     "execution_count": 172,
     "metadata": {},
     "output_type": "execute_result"
    }
   ],
   "source": [
    "# it is not mutable\n",
    "\n",
    "dir(fruits)"
   ]
  },
  {
   "cell_type": "code",
   "execution_count": 173,
   "id": "89d55a2e",
   "metadata": {},
   "outputs": [
    {
     "data": {
      "text/plain": [
       "2"
      ]
     },
     "execution_count": 173,
     "metadata": {},
     "output_type": "execute_result"
    }
   ],
   "source": [
    "fruits.count('apple')"
   ]
  },
  {
   "cell_type": "markdown",
   "id": "75984867",
   "metadata": {},
   "source": [
    "#### cast tuple to a list\n",
    "\n",
    "- tuple : tuple()\n",
    "- list : list()"
   ]
  },
  {
   "cell_type": "code",
   "execution_count": 174,
   "id": "c43e4bf1",
   "metadata": {},
   "outputs": [],
   "source": [
    "fruits = list(fruits)"
   ]
  },
  {
   "cell_type": "code",
   "execution_count": 175,
   "id": "974fa520",
   "metadata": {},
   "outputs": [
    {
     "data": {
      "text/plain": [
       "['apple', 'pineapple', 'banana', 'guava', 'apple']"
      ]
     },
     "execution_count": 175,
     "metadata": {},
     "output_type": "execute_result"
    }
   ],
   "source": [
    "fruits"
   ]
  },
  {
   "cell_type": "markdown",
   "id": "f6f4d141",
   "metadata": {},
   "source": [
    "#### Exercise \n",
    "\n",
    "Create 1 variables. The variable should be a list of numbers. Sort the numbers and print a new list"
   ]
  },
  {
   "cell_type": "code",
   "execution_count": 179,
   "id": "58732b87",
   "metadata": {},
   "outputs": [
    {
     "name": "stdout",
     "output_type": "stream",
     "text": [
      "The new list is : [3, 5, 8, 10, 12, 13]\n"
     ]
    }
   ],
   "source": [
    "list_of_numbers = [3,5,12,13,8,10]\n",
    "\n",
    "list_of_numbers.sort()\n",
    "\n",
    "new_list = list_of_numbers\n",
    "\n",
    "print(f'The new list is : {new_list}')"
   ]
  },
  {
   "cell_type": "code",
   "execution_count": 177,
   "id": "b46023a1",
   "metadata": {},
   "outputs": [],
   "source": [
    "list_of_numbers.sort()"
   ]
  },
  {
   "cell_type": "markdown",
   "id": "d887ed29",
   "metadata": {},
   "source": [
    "#### Sets"
   ]
  },
  {
   "cell_type": "code",
   "execution_count": 3,
   "id": "58b6afc7",
   "metadata": {},
   "outputs": [],
   "source": [
    "fruits = {'apple', 'banana', 'guava', 'apple'}"
   ]
  },
  {
   "cell_type": "code",
   "execution_count": 4,
   "id": "f1394d1e",
   "metadata": {},
   "outputs": [
    {
     "data": {
      "text/plain": [
       "set"
      ]
     },
     "execution_count": 4,
     "metadata": {},
     "output_type": "execute_result"
    }
   ],
   "source": [
    "type(fruits)"
   ]
  },
  {
   "cell_type": "code",
   "execution_count": 6,
   "id": "16733103",
   "metadata": {},
   "outputs": [
    {
     "name": "stdout",
     "output_type": "stream",
     "text": [
      "{'guava', 'banana', 'apple'}\n"
     ]
    }
   ],
   "source": [
    "print(fruits)\n",
    "\n",
    "## Sets cannot take duplicates"
   ]
  },
  {
   "cell_type": "code",
   "execution_count": 7,
   "id": "c5a87b10",
   "metadata": {},
   "outputs": [
    {
     "ename": "TypeError",
     "evalue": "'set' object is not subscriptable",
     "output_type": "error",
     "traceback": [
      "\u001b[1;31m---------------------------------------------------------------------------\u001b[0m",
      "\u001b[1;31mTypeError\u001b[0m                                 Traceback (most recent call last)",
      "Cell \u001b[1;32mIn[7], line 1\u001b[0m\n\u001b[1;32m----> 1\u001b[0m fruits[\u001b[38;5;241m0\u001b[39m]\n",
      "\u001b[1;31mTypeError\u001b[0m: 'set' object is not subscriptable"
     ]
    }
   ],
   "source": [
    "fruits[0]\n",
    "\n",
    "## Sets are unordered"
   ]
  },
  {
   "cell_type": "code",
   "execution_count": 9,
   "id": "914ac14e",
   "metadata": {},
   "outputs": [
    {
     "data": {
      "text/plain": [
       "['__and__',\n",
       " '__class__',\n",
       " '__class_getitem__',\n",
       " '__contains__',\n",
       " '__delattr__',\n",
       " '__dir__',\n",
       " '__doc__',\n",
       " '__eq__',\n",
       " '__format__',\n",
       " '__ge__',\n",
       " '__getattribute__',\n",
       " '__getstate__',\n",
       " '__gt__',\n",
       " '__hash__',\n",
       " '__iand__',\n",
       " '__init__',\n",
       " '__init_subclass__',\n",
       " '__ior__',\n",
       " '__isub__',\n",
       " '__iter__',\n",
       " '__ixor__',\n",
       " '__le__',\n",
       " '__len__',\n",
       " '__lt__',\n",
       " '__ne__',\n",
       " '__new__',\n",
       " '__or__',\n",
       " '__rand__',\n",
       " '__reduce__',\n",
       " '__reduce_ex__',\n",
       " '__repr__',\n",
       " '__ror__',\n",
       " '__rsub__',\n",
       " '__rxor__',\n",
       " '__setattr__',\n",
       " '__sizeof__',\n",
       " '__str__',\n",
       " '__sub__',\n",
       " '__subclasshook__',\n",
       " '__xor__',\n",
       " 'add',\n",
       " 'clear',\n",
       " 'copy',\n",
       " 'difference',\n",
       " 'difference_update',\n",
       " 'discard',\n",
       " 'intersection',\n",
       " 'intersection_update',\n",
       " 'isdisjoint',\n",
       " 'issubset',\n",
       " 'issuperset',\n",
       " 'pop',\n",
       " 'remove',\n",
       " 'symmetric_difference',\n",
       " 'symmetric_difference_update',\n",
       " 'union',\n",
       " 'update']"
      ]
     },
     "execution_count": 9,
     "metadata": {},
     "output_type": "execute_result"
    }
   ],
   "source": [
    "### Sets are mutable\n",
    "\n",
    "dir(fruits)"
   ]
  },
  {
   "cell_type": "code",
   "execution_count": 10,
   "id": "e77c1667",
   "metadata": {},
   "outputs": [],
   "source": [
    "numbers = [2,3,4,5,6]\n",
    "\n",
    "numbers[0] = 3"
   ]
  },
  {
   "cell_type": "code",
   "execution_count": 11,
   "id": "b2a6bd69",
   "metadata": {},
   "outputs": [
    {
     "data": {
      "text/plain": [
       "[3, 3, 4, 5, 6]"
      ]
     },
     "execution_count": 11,
     "metadata": {},
     "output_type": "execute_result"
    }
   ],
   "source": [
    "numbers"
   ]
  },
  {
   "cell_type": "code",
   "execution_count": 12,
   "id": "111a4bf4",
   "metadata": {},
   "outputs": [
    {
     "data": {
      "text/plain": [
       "{'apple', 'banana', 'guava'}"
      ]
     },
     "execution_count": 12,
     "metadata": {},
     "output_type": "execute_result"
    }
   ],
   "source": [
    "fruits"
   ]
  },
  {
   "cell_type": "code",
   "execution_count": 13,
   "id": "f2ea9665",
   "metadata": {},
   "outputs": [
    {
     "data": {
      "text/plain": [
       "'guava'"
      ]
     },
     "execution_count": 13,
     "metadata": {},
     "output_type": "execute_result"
    }
   ],
   "source": [
    "fruits.pop()"
   ]
  },
  {
   "cell_type": "code",
   "execution_count": 14,
   "id": "be0d66b9",
   "metadata": {},
   "outputs": [
    {
     "data": {
      "text/plain": [
       "{'apple', 'banana'}"
      ]
     },
     "execution_count": 14,
     "metadata": {},
     "output_type": "execute_result"
    }
   ],
   "source": [
    "fruits"
   ]
  },
  {
   "cell_type": "code",
   "execution_count": 19,
   "id": "d28c0cfc",
   "metadata": {},
   "outputs": [],
   "source": [
    "fruits.update({'pineapple'})"
   ]
  },
  {
   "cell_type": "code",
   "execution_count": 20,
   "id": "c00dc128",
   "metadata": {},
   "outputs": [
    {
     "data": {
      "text/plain": [
       "{'O', 'a', 'apple', 'banana', 'e', 'g', 'n', 'pineapple', 'r'}"
      ]
     },
     "execution_count": 20,
     "metadata": {},
     "output_type": "execute_result"
    }
   ],
   "source": [
    "fruits"
   ]
  },
  {
   "cell_type": "markdown",
   "id": "482e1109",
   "metadata": {},
   "source": [
    "#### Dictionary"
   ]
  },
  {
   "cell_type": "code",
   "execution_count": 21,
   "id": "56521dec",
   "metadata": {},
   "outputs": [],
   "source": [
    "student_scores = { 'Deborah': 60, 'Moses':70, 'Temi':57, 'Fisayo':90 }"
   ]
  },
  {
   "cell_type": "code",
   "execution_count": 22,
   "id": "a71eefb9",
   "metadata": {},
   "outputs": [
    {
     "data": {
      "text/plain": [
       "dict"
      ]
     },
     "execution_count": 22,
     "metadata": {},
     "output_type": "execute_result"
    }
   ],
   "source": [
    "type(student_scores)"
   ]
  },
  {
   "cell_type": "markdown",
   "id": "02f24597",
   "metadata": {},
   "source": [
    "### Exercise\n",
    "\n",
    "Create 2 variables, the first one should be a set (5 items of instrument found in a math set), while the second should be a dictionary of coutry and their capital city(5 items)."
   ]
  },
  {
   "cell_type": "code",
   "execution_count": 23,
   "id": "08139faa",
   "metadata": {},
   "outputs": [],
   "source": [
    "math_set = {'pencil', 'eraser', 'divider', 'compass', 'protractor'}\n",
    "\n",
    "countries_capital = {\n",
    "    'Nigeria':'Abuja',\n",
    "    'Ghana': 'Accra',\n",
    "    'Ivory Coast':'Abidjan',\n",
    "    'Togo':'Lome',\n",
    "    'Qatar': 'Doha'\n",
    "}"
   ]
  },
  {
   "cell_type": "code",
   "execution_count": 24,
   "id": "43557d23",
   "metadata": {},
   "outputs": [
    {
     "data": {
      "text/plain": [
       "{'Deborah': 60, 'Moses': 70, 'Temi': 57, 'Fisayo': 90}"
      ]
     },
     "execution_count": 24,
     "metadata": {},
     "output_type": "execute_result"
    }
   ],
   "source": [
    "student_scores"
   ]
  },
  {
   "cell_type": "code",
   "execution_count": 25,
   "id": "ab08af49",
   "metadata": {},
   "outputs": [
    {
     "data": {
      "text/plain": [
       "dict_keys(['Deborah', 'Moses', 'Temi', 'Fisayo'])"
      ]
     },
     "execution_count": 25,
     "metadata": {},
     "output_type": "execute_result"
    }
   ],
   "source": [
    "student_scores.keys()"
   ]
  },
  {
   "cell_type": "code",
   "execution_count": 26,
   "id": "364624d5",
   "metadata": {},
   "outputs": [],
   "source": [
    "# Dictionaries are mutable\n",
    "\n",
    "student_scores['Fidelis'] = 80"
   ]
  },
  {
   "cell_type": "code",
   "execution_count": 27,
   "id": "a5ff235e",
   "metadata": {},
   "outputs": [
    {
     "data": {
      "text/plain": [
       "{'Deborah': 60, 'Moses': 70, 'Temi': 57, 'Fisayo': 90, 'Fidelis': 80}"
      ]
     },
     "execution_count": 27,
     "metadata": {},
     "output_type": "execute_result"
    }
   ],
   "source": [
    "student_scores"
   ]
  },
  {
   "cell_type": "code",
   "execution_count": 28,
   "id": "b0d69ec9",
   "metadata": {},
   "outputs": [],
   "source": [
    "student_scores['Moses'] = 45"
   ]
  },
  {
   "cell_type": "code",
   "execution_count": 29,
   "id": "729604bf",
   "metadata": {},
   "outputs": [
    {
     "data": {
      "text/plain": [
       "{'Deborah': 60, 'Moses': 45, 'Temi': 57, 'Fisayo': 90, 'Fidelis': 80}"
      ]
     },
     "execution_count": 29,
     "metadata": {},
     "output_type": "execute_result"
    }
   ],
   "source": [
    "student_scores"
   ]
  },
  {
   "cell_type": "code",
   "execution_count": 32,
   "id": "eff3f16f",
   "metadata": {},
   "outputs": [
    {
     "data": {
      "text/plain": [
       "90"
      ]
     },
     "execution_count": 32,
     "metadata": {},
     "output_type": "execute_result"
    }
   ],
   "source": [
    "student_scores['Fisayo']"
   ]
  },
  {
   "cell_type": "code",
   "execution_count": 33,
   "id": "05cfe390",
   "metadata": {},
   "outputs": [
    {
     "data": {
      "text/plain": [
       "['__class__',\n",
       " '__class_getitem__',\n",
       " '__contains__',\n",
       " '__delattr__',\n",
       " '__delitem__',\n",
       " '__dir__',\n",
       " '__doc__',\n",
       " '__eq__',\n",
       " '__format__',\n",
       " '__ge__',\n",
       " '__getattribute__',\n",
       " '__getitem__',\n",
       " '__getstate__',\n",
       " '__gt__',\n",
       " '__hash__',\n",
       " '__init__',\n",
       " '__init_subclass__',\n",
       " '__ior__',\n",
       " '__iter__',\n",
       " '__le__',\n",
       " '__len__',\n",
       " '__lt__',\n",
       " '__ne__',\n",
       " '__new__',\n",
       " '__or__',\n",
       " '__reduce__',\n",
       " '__reduce_ex__',\n",
       " '__repr__',\n",
       " '__reversed__',\n",
       " '__ror__',\n",
       " '__setattr__',\n",
       " '__setitem__',\n",
       " '__sizeof__',\n",
       " '__str__',\n",
       " '__subclasshook__',\n",
       " 'clear',\n",
       " 'copy',\n",
       " 'fromkeys',\n",
       " 'get',\n",
       " 'items',\n",
       " 'keys',\n",
       " 'pop',\n",
       " 'popitem',\n",
       " 'setdefault',\n",
       " 'update',\n",
       " 'values']"
      ]
     },
     "execution_count": 33,
     "metadata": {},
     "output_type": "execute_result"
    }
   ],
   "source": [
    "dir(student_scores)"
   ]
  },
  {
   "cell_type": "code",
   "execution_count": 34,
   "id": "deb45c8c",
   "metadata": {},
   "outputs": [
    {
     "data": {
      "text/plain": [
       "90"
      ]
     },
     "execution_count": 34,
     "metadata": {},
     "output_type": "execute_result"
    }
   ],
   "source": [
    "student_scores.get('Fisayo')"
   ]
  },
  {
   "cell_type": "code",
   "execution_count": 35,
   "id": "098eb3b2",
   "metadata": {},
   "outputs": [
    {
     "data": {
      "text/plain": [
       "dict_values([60, 45, 57, 90, 80])"
      ]
     },
     "execution_count": 35,
     "metadata": {},
     "output_type": "execute_result"
    }
   ],
   "source": [
    "student_scores.values()"
   ]
  },
  {
   "cell_type": "markdown",
   "id": "8c5387ef",
   "metadata": {},
   "source": [
    "#### Conditional Statements"
   ]
  },
  {
   "cell_type": "code",
   "execution_count": 40,
   "id": "a28d7a8c",
   "metadata": {},
   "outputs": [
    {
     "name": "stdout",
     "output_type": "stream",
     "text": [
      "You are a youth\n"
     ]
    }
   ],
   "source": [
    "age = 34\n",
    "\n",
    "if (age < 18):\n",
    "    print('You are still a child')\n",
    "elif (age >= 18 and age <= 60):\n",
    "    print('You are a youth')\n",
    "else:\n",
    "    print(\"You are an adult\")"
   ]
  },
  {
   "cell_type": "markdown",
   "id": "9ce9cd0c",
   "metadata": {},
   "source": [
    "Write a program that checks a student score (should not be hardcoded) and prints the student grade."
   ]
  },
  {
   "cell_type": "code",
   "execution_count": 42,
   "id": "7386fe50",
   "metadata": {},
   "outputs": [
    {
     "name": "stdout",
     "output_type": "stream",
     "text": [
      "enter your score: 78\n",
      "Your grade is A\n"
     ]
    }
   ],
   "source": [
    "student_score = int(input('enter your score: '))\n",
    "\n",
    "if (student_score < 40):\n",
    "    print('Your grade is F')\n",
    "elif (student_score >= 40 and student_score <=60):\n",
    "    print('Your grade is B')\n",
    "else:\n",
    "    print('Your grade is A')"
   ]
  },
  {
   "cell_type": "code",
   "execution_count": 32,
   "id": "88f6ceaf",
   "metadata": {},
   "outputs": [
    {
     "name": "stdout",
     "output_type": "stream",
     "text": [
      "enter your score : 30\n",
      "Not sure\n"
     ]
    }
   ],
   "source": [
    "# score = 1\n",
    "# match score:\n",
    "#     case 1: \n",
    "#         print('1')\n",
    "\n",
    "score = int(input('enter your score : '))\n",
    "\n",
    "match score:\n",
    "    case 70:\n",
    "        print('Your passed')\n",
    "    case 60:\n",
    "        print('You did well')\n",
    "    case 50:\n",
    "        print('You did averagely well')\n",
    "    case _:\n",
    "        print('Not sure')"
   ]
  },
  {
   "cell_type": "markdown",
   "id": "f23a393b",
   "metadata": {},
   "source": [
    "#### Loops\n",
    "\n",
    "- For loop\n",
    "\n",
    "- While loop"
   ]
  },
  {
   "cell_type": "code",
   "execution_count": 6,
   "id": "f55bd3cc",
   "metadata": {},
   "outputs": [
    {
     "name": "stdout",
     "output_type": "stream",
     "text": [
      "Debby\n",
      "Fisayo\n",
      "Onyi\n",
      "Funmi\n"
     ]
    }
   ],
   "source": [
    "# For loop\n",
    "\n",
    "names = ['Debby', 'Fisayo', 'Onyi', 'Funmi']\n",
    "\n",
    "# iterator : name\n",
    "# iterable : names \n",
    "# iteration \n",
    "\n",
    "for iterator in names:\n",
    "    print(iterator)"
   ]
  },
  {
   "cell_type": "code",
   "execution_count": 8,
   "id": "7a9f0ada",
   "metadata": {},
   "outputs": [
    {
     "name": "stdout",
     "output_type": "stream",
     "text": [
      "Debby\n",
      "Fisayo\n",
      "Onyi\n",
      "Funmi\n"
     ]
    }
   ],
   "source": [
    "# While loop\n",
    "\n",
    "names = ['Debby', 'Fisayo', 'Onyi', 'Funmi']\n",
    "\n",
    "x = 0\n",
    "\n",
    "while (x < len(names)):\n",
    "    print(names[x])\n",
    "    x += 1"
   ]
  },
  {
   "cell_type": "code",
   "execution_count": 14,
   "id": "31a0e314",
   "metadata": {},
   "outputs": [
    {
     "name": "stdout",
     "output_type": "stream",
     "text": [
      "The computer is going to guess a number between 1 and 10\n",
      "Enter a guess : 4\n",
      "Checking out your guess.....\n",
      "Your guess is lower, try again\n",
      "Enter a guess : 6\n",
      "Checking out your guess.....\n",
      "Your guess is lower, try again\n",
      "Enter a guess : 8\n",
      "Checking out your guess.....\n",
      "Your guess is correct\n",
      "Enter a guess : 7\n",
      "Checking out your guess.....\n",
      "Your guess is lower, try again\n",
      "Enter a guess : 5\n",
      "Checking out your guess.....\n",
      "Your guess is lower, try again\n"
     ]
    }
   ],
   "source": [
    "import random\n",
    "\n",
    "print('The computer is going to guess a number between 1 and 10')\n",
    "computer_guess = random.randint(1,10)\n",
    "\n",
    "i = 0\n",
    "while (i < 5):\n",
    "    user_guess = int(input('Enter a guess : ')) \n",
    "    print('Checking out your guess.....')\n",
    "\n",
    "    if (computer_guess == user_guess):\n",
    "      print('Your guess is correct')\n",
    "      break\n",
    "    elif (user_guess < computer_guess):\n",
    "      print('Your guess is lower, try again')\n",
    "    else:\n",
    "      print('Your guess is higher, try again')\n",
    "    i += 1"
   ]
  },
  {
   "cell_type": "code",
   "execution_count": 17,
   "id": "28d65636",
   "metadata": {},
   "outputs": [
    {
     "name": "stdout",
     "output_type": "stream",
     "text": [
      "2\n",
      "3\n",
      "4\n",
      "6\n",
      "7\n"
     ]
    }
   ],
   "source": [
    "numbers = [2,3,4,5,6,7]\n",
    "\n",
    "for i in numbers:\n",
    "    if (i == 5):\n",
    "        continue\n",
    "    print(i)"
   ]
  },
  {
   "cell_type": "markdown",
   "id": "fe15b705",
   "metadata": {},
   "source": [
    "#### Exercise\n",
    "\n",
    "Write a program that allows a user to guess a word by giving the user the first letter and last letter. The word should have a min length of 5 characters. The user should be able to try for 5 times. \n",
    "\n",
    "Use random.choice()\n",
    "\n",
    "list_words = ['', '']\n",
    "\n",
    "comp_guess = random.choice(list_words)"
   ]
  },
  {
   "cell_type": "code",
   "execution_count": 29,
   "id": "c48f4ead",
   "metadata": {},
   "outputs": [
    {
     "name": "stdout",
     "output_type": "stream",
     "text": [
      "The computer is going to guess a word\n",
      "The first letter of the word is t\n",
      "The last letter of the word is e\n",
      "Enter a guess : yrtyw\n",
      "Checking out your guess.....\n",
      "Try again\n",
      "Enter a guess : yete\n",
      "Checking out your guess.....\n",
      "Try again\n",
      "Enter a guess : yeye\n",
      "Checking out your guess.....\n",
      "Try again\n",
      "Enter a guess : ettet\n",
      "Checking out your guess.....\n",
      "Try again\n",
      "Enter a guess : ettete\n",
      "Checking out your guess.....\n",
      "Try again\n",
      "Hope you enjoyed the game\n"
     ]
    }
   ],
   "source": [
    "import random\n",
    "\n",
    "print('The computer is going to guess a word')\n",
    "list_words = ['Table', 'Favor', 'Knife', 'Shoes', 'Tunde']\n",
    "computer_guess = random.choice(list_words).lower()\n",
    "\n",
    "print(f'The first letter of the word is {computer_guess[0]}')\n",
    "print(f'The last letter of the word is {computer_guess[-1]}')\n",
    "\n",
    "i = 0\n",
    "while (i < 5):\n",
    "    user_guess = input('Enter a guess : ').lower()\n",
    "    print('Checking out your guess.....')\n",
    "\n",
    "    if (computer_guess == user_guess):\n",
    "      print('Congrats! Your guess is correct')\n",
    "      break\n",
    "    else:\n",
    "        print('Try again')\n",
    "    i += 1\n",
    "else:\n",
    "    print('Hope you enjoyed the game')"
   ]
  },
  {
   "cell_type": "code",
   "execution_count": 34,
   "id": "f263d43c",
   "metadata": {},
   "outputs": [
    {
     "name": "stdout",
     "output_type": "stream",
     "text": [
      "[1, 2, 3, 4, 5, 6, 7, 8, 9, 10, 11, 12, 13, 14, 15, 16, 17, 18, 19, 20, 21, 22, 23, 24, 25, 26, 27, 28, 29, 30, 31, 32, 33, 34, 35, 36, 37, 38, 39, 40, 41, 42, 43, 44, 45, 46, 47, 48, 49, 50, 51, 52, 53, 54, 55, 56, 57, 58, 59, 60, 61, 62, 63, 64, 65, 66, 67, 68, 69, 70, 71, 72, 73, 74, 75, 76, 77, 78, 79, 80, 81, 82, 83, 84, 85, 86, 87, 88, 89, 90, 91, 92, 93, 94, 95, 96, 97, 98, 99, 100]\n"
     ]
    }
   ],
   "source": [
    "# List Comprehension\n",
    "\n",
    "# numbers = []\n",
    "\n",
    "# for i in range(1,101):\n",
    "#     numbers.append(i)\n",
    "# print(numbers)\n",
    "\n",
    "numbers  = [i for i in range(1,101)]\n",
    "print(numbers)"
   ]
  },
  {
   "cell_type": "code",
   "execution_count": null,
   "id": "f18d0f16",
   "metadata": {},
   "outputs": [],
   "source": []
  }
 ],
 "metadata": {
  "kernelspec": {
   "display_name": "Python 3 (ipykernel)",
   "language": "python",
   "name": "python3"
  },
  "language_info": {
   "codemirror_mode": {
    "name": "ipython",
    "version": 3
   },
   "file_extension": ".py",
   "mimetype": "text/x-python",
   "name": "python",
   "nbconvert_exporter": "python",
   "pygments_lexer": "ipython3",
   "version": "3.11.5"
  }
 },
 "nbformat": 4,
 "nbformat_minor": 5
}
