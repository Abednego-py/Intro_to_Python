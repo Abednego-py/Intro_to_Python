{
 "cells": [
  {
   "cell_type": "markdown",
   "id": "ddd02081",
   "metadata": {},
   "source": [
    "#### Variables\n",
    "\n",
    "Variables are containers that hold data"
   ]
  },
  {
   "cell_type": "code",
   "execution_count": 3,
   "id": "d351d95e",
   "metadata": {},
   "outputs": [],
   "source": [
    "age = 28\n",
    "\n",
    "# = is an assignment operator"
   ]
  },
  {
   "cell_type": "code",
   "execution_count": 6,
   "id": "a08e697a",
   "metadata": {},
   "outputs": [
    {
     "name": "stdout",
     "output_type": "stream",
     "text": [
      "28\n"
     ]
    }
   ],
   "source": [
    "print(age)"
   ]
  },
  {
   "cell_type": "code",
   "execution_count": 9,
   "id": "13123baa",
   "metadata": {},
   "outputs": [],
   "source": [
    "name = \"Onyinye\""
   ]
  },
  {
   "cell_type": "code",
   "execution_count": 10,
   "id": "0e6a947a",
   "metadata": {},
   "outputs": [
    {
     "name": "stdout",
     "output_type": "stream",
     "text": [
      "onyinye\n"
     ]
    }
   ],
   "source": [
    "print(name)"
   ]
  },
  {
   "cell_type": "code",
   "execution_count": 11,
   "id": "e01b0865",
   "metadata": {},
   "outputs": [],
   "source": [
    "Age = 24"
   ]
  },
  {
   "cell_type": "code",
   "execution_count": 14,
   "id": "867862b0",
   "metadata": {},
   "outputs": [
    {
     "name": "stdout",
     "output_type": "stream",
     "text": [
      "24\n"
     ]
    }
   ],
   "source": [
    "print(Age)\n",
    "\n",
    "# Variable names are not case sensitive"
   ]
  },
  {
   "cell_type": "code",
   "execution_count": 13,
   "id": "35311967",
   "metadata": {},
   "outputs": [
    {
     "name": "stdout",
     "output_type": "stream",
     "text": [
      "28\n"
     ]
    }
   ],
   "source": [
    "print(age)"
   ]
  },
  {
   "cell_type": "markdown",
   "id": "990eebe0",
   "metadata": {},
   "source": [
    "### Conventions for naming variables\n",
    "\n",
    "- Variable name must start with a letter or an underscore (enforced)\n",
    "\n",
    "- Variables using lowercase excepts if they are constant.\n",
    "\n",
    "- Seperate variable names with more than one word with an underscore (snake casing)\n",
    "\n",
    "- Variable names should be descriptive"
   ]
  },
  {
   "cell_type": "code",
   "execution_count": 17,
   "id": "9ba8b007",
   "metadata": {},
   "outputs": [],
   "source": [
    "first_name = \"Hamad\"\n",
    "last_name =  \"Abdul\""
   ]
  },
  {
   "cell_type": "code",
   "execution_count": 19,
   "id": "743d4f8f",
   "metadata": {},
   "outputs": [],
   "source": [
    "# Variable re-assignment\n",
    "\n",
    "age = 30"
   ]
  },
  {
   "cell_type": "code",
   "execution_count": 20,
   "id": "05bfd682",
   "metadata": {},
   "outputs": [
    {
     "name": "stdout",
     "output_type": "stream",
     "text": [
      "30\n"
     ]
    }
   ],
   "source": [
    "print(age)"
   ]
  },
  {
   "cell_type": "code",
   "execution_count": 21,
   "id": "e7011d7e",
   "metadata": {},
   "outputs": [],
   "source": [
    "PI = 3.142"
   ]
  },
  {
   "cell_type": "code",
   "execution_count": 22,
   "id": "570f39a9",
   "metadata": {},
   "outputs": [],
   "source": [
    "city = \"Lagos\""
   ]
  },
  {
   "cell_type": "markdown",
   "id": "d6fa6417",
   "metadata": {},
   "source": [
    "### Data Types\n",
    "\n",
    "Represent the different types of data/values that we can store in a variable"
   ]
  },
  {
   "cell_type": "markdown",
   "id": "fbd75df3",
   "metadata": {},
   "source": [
    "#### Number \n",
    "\n",
    "- Integer : whole numbers\n",
    "\n",
    "- Float : Decimal numbers"
   ]
  },
  {
   "cell_type": "code",
   "execution_count": 23,
   "id": "921e9a37",
   "metadata": {},
   "outputs": [],
   "source": [
    "score = 60 \n",
    "\n",
    "# infer the type of the data"
   ]
  },
  {
   "cell_type": "code",
   "execution_count": 24,
   "id": "ebf85bbd",
   "metadata": {},
   "outputs": [
    {
     "data": {
      "text/plain": [
       "int"
      ]
     },
     "execution_count": 24,
     "metadata": {},
     "output_type": "execute_result"
    }
   ],
   "source": [
    "type(score)"
   ]
  },
  {
   "cell_type": "code",
   "execution_count": 30,
   "id": "ec2ba8dd",
   "metadata": {},
   "outputs": [],
   "source": [
    "height = 50.5"
   ]
  },
  {
   "cell_type": "code",
   "execution_count": 31,
   "id": "53a348b1",
   "metadata": {},
   "outputs": [
    {
     "data": {
      "text/plain": [
       "float"
      ]
     },
     "execution_count": 31,
     "metadata": {},
     "output_type": "execute_result"
    }
   ],
   "source": [
    "type(height)"
   ]
  },
  {
   "cell_type": "markdown",
   "id": "5fde1b64",
   "metadata": {},
   "source": [
    "The data type of the value you store in a variable would determine what you can do with it"
   ]
  },
  {
   "cell_type": "markdown",
   "id": "cbc29074",
   "metadata": {},
   "source": [
    "#### String\n",
    "\n",
    "Combination of characters"
   ]
  },
  {
   "cell_type": "code",
   "execution_count": 32,
   "id": "79067fa3",
   "metadata": {},
   "outputs": [],
   "source": [
    "name = \"Deborah\""
   ]
  },
  {
   "cell_type": "code",
   "execution_count": 33,
   "id": "0c862653",
   "metadata": {},
   "outputs": [
    {
     "data": {
      "text/plain": [
       "str"
      ]
     },
     "execution_count": 33,
     "metadata": {},
     "output_type": "execute_result"
    }
   ],
   "source": [
    "type(name)"
   ]
  },
  {
   "cell_type": "markdown",
   "id": "159bc82f",
   "metadata": {},
   "source": [
    "#### Boolean\n",
    "\n",
    "truth value of a condition"
   ]
  },
  {
   "cell_type": "code",
   "execution_count": 36,
   "id": "928fc9e7",
   "metadata": {},
   "outputs": [],
   "source": [
    "is_raining = False"
   ]
  },
  {
   "cell_type": "code",
   "execution_count": 37,
   "id": "9d41bdb8",
   "metadata": {},
   "outputs": [
    {
     "data": {
      "text/plain": [
       "bool"
      ]
     },
     "execution_count": 37,
     "metadata": {},
     "output_type": "execute_result"
    }
   ],
   "source": [
    "type(is_raining)"
   ]
  },
  {
   "cell_type": "markdown",
   "id": "7801b627",
   "metadata": {},
   "source": [
    "#### Comments\n",
    "\n",
    "- What the programmer writes to explain his code. \n",
    "\n",
    "**single line comment** \n",
    "\n",
    "**multi-line comment**"
   ]
  },
  {
   "cell_type": "code",
   "execution_count": 38,
   "id": "fc90efdc",
   "metadata": {},
   "outputs": [],
   "source": [
    "# the variable stores the value that tells us whether or not the weather is hot\n",
    "\n",
    "is_weather_hot = False"
   ]
  },
  {
   "cell_type": "code",
   "execution_count": 41,
   "id": "9f2b9de0",
   "metadata": {},
   "outputs": [
    {
     "name": "stdout",
     "output_type": "stream",
     "text": [
      "9\n"
     ]
    }
   ],
   "source": [
    "'''\n",
    "This is a multi\n",
    "line comment\n",
    "'''\n",
    "\n",
    "print(9)"
   ]
  },
  {
   "cell_type": "markdown",
   "id": "7c00ea5f",
   "metadata": {},
   "source": [
    "#### Python Operators"
   ]
  },
  {
   "cell_type": "code",
   "execution_count": 42,
   "id": "b20abff1",
   "metadata": {},
   "outputs": [],
   "source": [
    "test_score = 20\n",
    "exam_score = 40"
   ]
  },
  {
   "cell_type": "code",
   "execution_count": 43,
   "id": "9b502d8e",
   "metadata": {},
   "outputs": [
    {
     "data": {
      "text/plain": [
       "60"
      ]
     },
     "execution_count": 43,
     "metadata": {},
     "output_type": "execute_result"
    }
   ],
   "source": [
    "# Arithmetic operators\n",
    "\n",
    "test_score + exam_score"
   ]
  },
  {
   "cell_type": "code",
   "execution_count": 44,
   "id": "1dec4fd4",
   "metadata": {},
   "outputs": [
    {
     "data": {
      "text/plain": [
       "-20"
      ]
     },
     "execution_count": 44,
     "metadata": {},
     "output_type": "execute_result"
    }
   ],
   "source": [
    "test_score -exam_score"
   ]
  },
  {
   "cell_type": "code",
   "execution_count": 45,
   "id": "65314024",
   "metadata": {},
   "outputs": [
    {
     "data": {
      "text/plain": [
       "800"
      ]
     },
     "execution_count": 45,
     "metadata": {},
     "output_type": "execute_result"
    }
   ],
   "source": [
    "test_score * exam_score"
   ]
  },
  {
   "cell_type": "code",
   "execution_count": 46,
   "id": "134873ed",
   "metadata": {},
   "outputs": [
    {
     "data": {
      "text/plain": [
       "2.0"
      ]
     },
     "execution_count": 46,
     "metadata": {},
     "output_type": "execute_result"
    }
   ],
   "source": [
    "exam_score / test_score"
   ]
  },
  {
   "cell_type": "code",
   "execution_count": 48,
   "id": "2d041db2",
   "metadata": {},
   "outputs": [
    {
     "data": {
      "text/plain": [
       "8"
      ]
     },
     "execution_count": 48,
     "metadata": {},
     "output_type": "execute_result"
    }
   ],
   "source": [
    "2 ** 3"
   ]
  },
  {
   "cell_type": "code",
   "execution_count": 49,
   "id": "227ce92c",
   "metadata": {},
   "outputs": [
    {
     "data": {
      "text/plain": [
       "0"
      ]
     },
     "execution_count": 49,
     "metadata": {},
     "output_type": "execute_result"
    }
   ],
   "source": [
    "# modulo operator\n",
    "\n",
    "4 % 2"
   ]
  },
  {
   "cell_type": "code",
   "execution_count": 52,
   "id": "8d34e6dc",
   "metadata": {},
   "outputs": [
    {
     "data": {
      "text/plain": [
       "1"
      ]
     },
     "execution_count": 52,
     "metadata": {},
     "output_type": "execute_result"
    }
   ],
   "source": [
    "5 % 2"
   ]
  },
  {
   "cell_type": "code",
   "execution_count": null,
   "id": "8ad56585",
   "metadata": {},
   "outputs": [],
   "source": []
  }
 ],
 "metadata": {
  "kernelspec": {
   "display_name": "Python 3 (ipykernel)",
   "language": "python",
   "name": "python3"
  },
  "language_info": {
   "codemirror_mode": {
    "name": "ipython",
    "version": 3
   },
   "file_extension": ".py",
   "mimetype": "text/x-python",
   "name": "python",
   "nbconvert_exporter": "python",
   "pygments_lexer": "ipython3",
   "version": "3.11.5"
  }
 },
 "nbformat": 4,
 "nbformat_minor": 5
}
