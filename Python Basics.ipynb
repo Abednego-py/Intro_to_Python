{
 "cells": [
  {
   "cell_type": "markdown",
   "id": "ddd02081",
   "metadata": {},
   "source": [
    "#### Variables\n",
    "\n",
    "Variables are containers that hold data"
   ]
  },
  {
   "cell_type": "code",
   "execution_count": 3,
   "id": "d351d95e",
   "metadata": {},
   "outputs": [],
   "source": [
    "age = 28\n",
    "\n",
    "# = is an assignment operator"
   ]
  },
  {
   "cell_type": "code",
   "execution_count": 6,
   "id": "a08e697a",
   "metadata": {},
   "outputs": [
    {
     "name": "stdout",
     "output_type": "stream",
     "text": [
      "28\n"
     ]
    }
   ],
   "source": [
    "print(age)"
   ]
  },
  {
   "cell_type": "code",
   "execution_count": 9,
   "id": "13123baa",
   "metadata": {},
   "outputs": [],
   "source": [
    "name = \"Onyinye\""
   ]
  },
  {
   "cell_type": "code",
   "execution_count": 10,
   "id": "0e6a947a",
   "metadata": {},
   "outputs": [
    {
     "name": "stdout",
     "output_type": "stream",
     "text": [
      "onyinye\n"
     ]
    }
   ],
   "source": [
    "print(name)"
   ]
  },
  {
   "cell_type": "code",
   "execution_count": 11,
   "id": "e01b0865",
   "metadata": {},
   "outputs": [],
   "source": [
    "Age = 24"
   ]
  },
  {
   "cell_type": "code",
   "execution_count": 14,
   "id": "867862b0",
   "metadata": {},
   "outputs": [
    {
     "name": "stdout",
     "output_type": "stream",
     "text": [
      "24\n"
     ]
    }
   ],
   "source": [
    "print(Age)\n",
    "\n",
    "# Variable names are not case sensitive"
   ]
  },
  {
   "cell_type": "code",
   "execution_count": 13,
   "id": "35311967",
   "metadata": {},
   "outputs": [
    {
     "name": "stdout",
     "output_type": "stream",
     "text": [
      "28\n"
     ]
    }
   ],
   "source": [
    "print(age)"
   ]
  },
  {
   "cell_type": "markdown",
   "id": "990eebe0",
   "metadata": {},
   "source": [
    "### Conventions for naming variables\n",
    "\n",
    "- Variable name must start with a letter or an underscore (enforced)\n",
    "\n",
    "- Variables using lowercase excepts if they are constant.\n",
    "\n",
    "- Seperate variable names with more than one word with an underscore (snake casing)\n",
    "\n",
    "- Variable names should be descriptive"
   ]
  },
  {
   "cell_type": "code",
   "execution_count": 17,
   "id": "9ba8b007",
   "metadata": {},
   "outputs": [],
   "source": [
    "first_name = \"Hamad\"\n",
    "last_name =  \"Abdul\""
   ]
  },
  {
   "cell_type": "code",
   "execution_count": 19,
   "id": "743d4f8f",
   "metadata": {},
   "outputs": [],
   "source": [
    "# Variable re-assignment\n",
    "\n",
    "age = 30"
   ]
  },
  {
   "cell_type": "code",
   "execution_count": 20,
   "id": "05bfd682",
   "metadata": {},
   "outputs": [
    {
     "name": "stdout",
     "output_type": "stream",
     "text": [
      "30\n"
     ]
    }
   ],
   "source": [
    "print(age)"
   ]
  },
  {
   "cell_type": "code",
   "execution_count": 21,
   "id": "e7011d7e",
   "metadata": {},
   "outputs": [],
   "source": [
    "PI = 3.142"
   ]
  },
  {
   "cell_type": "code",
   "execution_count": 22,
   "id": "570f39a9",
   "metadata": {},
   "outputs": [],
   "source": [
    "city = \"Lagos\""
   ]
  },
  {
   "cell_type": "markdown",
   "id": "d6fa6417",
   "metadata": {},
   "source": [
    "### Data Types\n",
    "\n",
    "Represent the different types of data/values that we can store in a variable"
   ]
  },
  {
   "cell_type": "markdown",
   "id": "fbd75df3",
   "metadata": {},
   "source": [
    "#### Number \n",
    "\n",
    "- Integer : whole numbers\n",
    "\n",
    "- Float : Decimal numbers"
   ]
  },
  {
   "cell_type": "code",
   "execution_count": 23,
   "id": "921e9a37",
   "metadata": {},
   "outputs": [],
   "source": [
    "score = 60 \n",
    "\n",
    "# infer the type of the data"
   ]
  },
  {
   "cell_type": "code",
   "execution_count": 24,
   "id": "ebf85bbd",
   "metadata": {},
   "outputs": [
    {
     "data": {
      "text/plain": [
       "int"
      ]
     },
     "execution_count": 24,
     "metadata": {},
     "output_type": "execute_result"
    }
   ],
   "source": [
    "type(score)"
   ]
  },
  {
   "cell_type": "code",
   "execution_count": 30,
   "id": "ec2ba8dd",
   "metadata": {},
   "outputs": [],
   "source": [
    "height = 50.5"
   ]
  },
  {
   "cell_type": "code",
   "execution_count": 31,
   "id": "53a348b1",
   "metadata": {},
   "outputs": [
    {
     "data": {
      "text/plain": [
       "float"
      ]
     },
     "execution_count": 31,
     "metadata": {},
     "output_type": "execute_result"
    }
   ],
   "source": [
    "type(height)"
   ]
  },
  {
   "cell_type": "markdown",
   "id": "5fde1b64",
   "metadata": {},
   "source": [
    "The data type of the value you store in a variable would determine what you can do with it"
   ]
  },
  {
   "cell_type": "markdown",
   "id": "cbc29074",
   "metadata": {},
   "source": [
    "#### String\n",
    "\n",
    "Combination of characters"
   ]
  },
  {
   "cell_type": "code",
   "execution_count": 32,
   "id": "79067fa3",
   "metadata": {},
   "outputs": [],
   "source": [
    "name = \"Deborah\""
   ]
  },
  {
   "cell_type": "code",
   "execution_count": 33,
   "id": "0c862653",
   "metadata": {},
   "outputs": [
    {
     "data": {
      "text/plain": [
       "str"
      ]
     },
     "execution_count": 33,
     "metadata": {},
     "output_type": "execute_result"
    }
   ],
   "source": [
    "type(name)"
   ]
  },
  {
   "cell_type": "markdown",
   "id": "159bc82f",
   "metadata": {},
   "source": [
    "#### Boolean\n",
    "\n",
    "truth value of a condition"
   ]
  },
  {
   "cell_type": "code",
   "execution_count": 36,
   "id": "928fc9e7",
   "metadata": {},
   "outputs": [],
   "source": [
    "is_raining = False"
   ]
  },
  {
   "cell_type": "code",
   "execution_count": 37,
   "id": "9d41bdb8",
   "metadata": {},
   "outputs": [
    {
     "data": {
      "text/plain": [
       "bool"
      ]
     },
     "execution_count": 37,
     "metadata": {},
     "output_type": "execute_result"
    }
   ],
   "source": [
    "type(is_raining)"
   ]
  },
  {
   "cell_type": "markdown",
   "id": "7801b627",
   "metadata": {},
   "source": [
    "#### Comments\n",
    "\n",
    "- What the programmer writes to explain his code. \n",
    "\n",
    "**single line comment** \n",
    "\n",
    "**multi-line comment**"
   ]
  },
  {
   "cell_type": "code",
   "execution_count": 38,
   "id": "fc90efdc",
   "metadata": {},
   "outputs": [],
   "source": [
    "# the variable stores the value that tells us whether or not the weather is hot\n",
    "\n",
    "is_weather_hot = False"
   ]
  },
  {
   "cell_type": "code",
   "execution_count": 41,
   "id": "9f2b9de0",
   "metadata": {},
   "outputs": [
    {
     "name": "stdout",
     "output_type": "stream",
     "text": [
      "9\n"
     ]
    }
   ],
   "source": [
    "'''\n",
    "This is a multi\n",
    "line comment\n",
    "'''\n",
    "\n",
    "print(9)"
   ]
  },
  {
   "cell_type": "markdown",
   "id": "7c00ea5f",
   "metadata": {},
   "source": [
    "#### Python Operators\n",
    "\n",
    "#### Arithmetic Operators"
   ]
  },
  {
   "cell_type": "code",
   "execution_count": 42,
   "id": "b20abff1",
   "metadata": {},
   "outputs": [],
   "source": [
    "test_score = 20\n",
    "exam_score = 40"
   ]
  },
  {
   "cell_type": "code",
   "execution_count": 43,
   "id": "9b502d8e",
   "metadata": {},
   "outputs": [
    {
     "data": {
      "text/plain": [
       "60"
      ]
     },
     "execution_count": 43,
     "metadata": {},
     "output_type": "execute_result"
    }
   ],
   "source": [
    "# Arithmetic operators\n",
    "\n",
    "test_score + exam_score"
   ]
  },
  {
   "cell_type": "code",
   "execution_count": 44,
   "id": "1dec4fd4",
   "metadata": {},
   "outputs": [
    {
     "data": {
      "text/plain": [
       "-20"
      ]
     },
     "execution_count": 44,
     "metadata": {},
     "output_type": "execute_result"
    }
   ],
   "source": [
    "test_score - exam_score"
   ]
  },
  {
   "cell_type": "code",
   "execution_count": 45,
   "id": "65314024",
   "metadata": {},
   "outputs": [
    {
     "data": {
      "text/plain": [
       "800"
      ]
     },
     "execution_count": 45,
     "metadata": {},
     "output_type": "execute_result"
    }
   ],
   "source": [
    "test_score * exam_score"
   ]
  },
  {
   "cell_type": "code",
   "execution_count": 46,
   "id": "134873ed",
   "metadata": {},
   "outputs": [
    {
     "data": {
      "text/plain": [
       "2.0"
      ]
     },
     "execution_count": 46,
     "metadata": {},
     "output_type": "execute_result"
    }
   ],
   "source": [
    "exam_score / test_score"
   ]
  },
  {
   "cell_type": "code",
   "execution_count": 1,
   "id": "2d041db2",
   "metadata": {},
   "outputs": [
    {
     "data": {
      "text/plain": [
       "8"
      ]
     },
     "execution_count": 1,
     "metadata": {},
     "output_type": "execute_result"
    }
   ],
   "source": [
    "2 ** 3 \n",
    "\n",
    "# exponential"
   ]
  },
  {
   "cell_type": "code",
   "execution_count": 49,
   "id": "227ce92c",
   "metadata": {},
   "outputs": [
    {
     "data": {
      "text/plain": [
       "0"
      ]
     },
     "execution_count": 49,
     "metadata": {},
     "output_type": "execute_result"
    }
   ],
   "source": [
    "# modulo operator\n",
    "\n",
    "4 % 2"
   ]
  },
  {
   "cell_type": "code",
   "execution_count": 52,
   "id": "8d34e6dc",
   "metadata": {},
   "outputs": [
    {
     "data": {
      "text/plain": [
       "1"
      ]
     },
     "execution_count": 52,
     "metadata": {},
     "output_type": "execute_result"
    }
   ],
   "source": [
    "5 % 2"
   ]
  },
  {
   "cell_type": "code",
   "execution_count": 2,
   "id": "8ad56585",
   "metadata": {},
   "outputs": [
    {
     "data": {
      "text/plain": [
       "2"
      ]
     },
     "execution_count": 2,
     "metadata": {},
     "output_type": "execute_result"
    }
   ],
   "source": [
    "# floor division\n",
    "\n",
    "5 // 2"
   ]
  },
  {
   "cell_type": "code",
   "execution_count": 4,
   "id": "b1c19376",
   "metadata": {},
   "outputs": [
    {
     "data": {
      "text/plain": [
       "3"
      ]
     },
     "execution_count": 4,
     "metadata": {},
     "output_type": "execute_result"
    }
   ],
   "source": [
    "10 // 3"
   ]
  },
  {
   "cell_type": "code",
   "execution_count": 10,
   "id": "7b2b4333",
   "metadata": {},
   "outputs": [
    {
     "name": "stdout",
     "output_type": "stream",
     "text": [
      "No of hr :  8\n",
      "No of min :  20\n"
     ]
    }
   ],
   "source": [
    "duration = 500 \n",
    "\n",
    "no_of_hr = duration // 60\n",
    "\n",
    "no_of_min = duration % 60\n",
    "\n",
    "print('No of hr : ', no_of_hr)\n",
    "print('No of min : ', no_of_min)"
   ]
  },
  {
   "cell_type": "markdown",
   "id": "441fca4f",
   "metadata": {},
   "source": [
    "#### Comparison Operators"
   ]
  },
  {
   "cell_type": "code",
   "execution_count": 24,
   "id": "b26427df",
   "metadata": {},
   "outputs": [],
   "source": [
    "x = 4\n",
    "y = 5"
   ]
  },
  {
   "cell_type": "code",
   "execution_count": 14,
   "id": "e937657b",
   "metadata": {},
   "outputs": [
    {
     "data": {
      "text/plain": [
       "True"
      ]
     },
     "execution_count": 14,
     "metadata": {},
     "output_type": "execute_result"
    }
   ],
   "source": [
    "x == y"
   ]
  },
  {
   "cell_type": "code",
   "execution_count": 15,
   "id": "4bae4eb6",
   "metadata": {},
   "outputs": [
    {
     "data": {
      "text/plain": [
       "False"
      ]
     },
     "execution_count": 15,
     "metadata": {},
     "output_type": "execute_result"
    }
   ],
   "source": [
    "x != y"
   ]
  },
  {
   "cell_type": "code",
   "execution_count": 16,
   "id": "5bbdc4de",
   "metadata": {},
   "outputs": [
    {
     "data": {
      "text/plain": [
       "False"
      ]
     },
     "execution_count": 16,
     "metadata": {},
     "output_type": "execute_result"
    }
   ],
   "source": [
    "x < y"
   ]
  },
  {
   "cell_type": "code",
   "execution_count": 19,
   "id": "8537be06",
   "metadata": {},
   "outputs": [
    {
     "data": {
      "text/plain": [
       "True"
      ]
     },
     "execution_count": 19,
     "metadata": {},
     "output_type": "execute_result"
    }
   ],
   "source": [
    "x > y"
   ]
  },
  {
   "cell_type": "code",
   "execution_count": 22,
   "id": "93d0db80",
   "metadata": {},
   "outputs": [
    {
     "data": {
      "text/plain": [
       "True"
      ]
     },
     "execution_count": 22,
     "metadata": {},
     "output_type": "execute_result"
    }
   ],
   "source": [
    "x <= y"
   ]
  },
  {
   "cell_type": "code",
   "execution_count": 26,
   "id": "57bba07a",
   "metadata": {},
   "outputs": [
    {
     "data": {
      "text/plain": [
       "False"
      ]
     },
     "execution_count": 26,
     "metadata": {},
     "output_type": "execute_result"
    }
   ],
   "source": [
    "x >= y"
   ]
  },
  {
   "cell_type": "markdown",
   "id": "26d9e139",
   "metadata": {},
   "source": [
    "#### Logical Operators"
   ]
  },
  {
   "cell_type": "code",
   "execution_count": 27,
   "id": "1c1e5a16",
   "metadata": {},
   "outputs": [
    {
     "data": {
      "text/plain": [
       "False"
      ]
     },
     "execution_count": 27,
     "metadata": {},
     "output_type": "execute_result"
    }
   ],
   "source": [
    "x = 10\n",
    "y = 5\n",
    "z = 7\n",
    "\n",
    "x < y and y < z"
   ]
  },
  {
   "cell_type": "code",
   "execution_count": 28,
   "id": "ba04ab47",
   "metadata": {},
   "outputs": [
    {
     "data": {
      "text/plain": [
       "False"
      ]
     },
     "execution_count": 28,
     "metadata": {},
     "output_type": "execute_result"
    }
   ],
   "source": [
    "4 == 5 and 5 < 6"
   ]
  },
  {
   "cell_type": "code",
   "execution_count": 29,
   "id": "0a36923f",
   "metadata": {},
   "outputs": [
    {
     "data": {
      "text/plain": [
       "True"
      ]
     },
     "execution_count": 29,
     "metadata": {},
     "output_type": "execute_result"
    }
   ],
   "source": [
    "x < y or y < z "
   ]
  },
  {
   "cell_type": "markdown",
   "id": "806fe55c",
   "metadata": {},
   "source": [
    "#### Membership Operator"
   ]
  },
  {
   "cell_type": "code",
   "execution_count": 1,
   "id": "dd9ba9d4",
   "metadata": {},
   "outputs": [
    {
     "name": "stdout",
     "output_type": "stream",
     "text": [
      "True\n"
     ]
    }
   ],
   "source": [
    "scores = [10, 20, 30, 40, 50, 60]\n",
    "\n",
    "result = 10 in scores\n",
    "\n",
    "print(result)"
   ]
  },
  {
   "cell_type": "code",
   "execution_count": 2,
   "id": "1e2d1456",
   "metadata": {},
   "outputs": [
    {
     "name": "stdout",
     "output_type": "stream",
     "text": [
      "False\n"
     ]
    }
   ],
   "source": [
    "result = 10 not in scores\n",
    "print(result)"
   ]
  },
  {
   "cell_type": "markdown",
   "id": "6d341f91",
   "metadata": {},
   "source": [
    "#### Type Casting"
   ]
  },
  {
   "cell_type": "code",
   "execution_count": 30,
   "id": "0a52bfc9",
   "metadata": {},
   "outputs": [],
   "source": [
    "score = \"70\""
   ]
  },
  {
   "cell_type": "code",
   "execution_count": 31,
   "id": "c3ab47f1",
   "metadata": {},
   "outputs": [
    {
     "data": {
      "text/plain": [
       "str"
      ]
     },
     "execution_count": 31,
     "metadata": {},
     "output_type": "execute_result"
    }
   ],
   "source": [
    "type(score)"
   ]
  },
  {
   "cell_type": "code",
   "execution_count": 32,
   "id": "f880dee1",
   "metadata": {},
   "outputs": [
    {
     "ename": "TypeError",
     "evalue": "can only concatenate str (not \"int\") to str",
     "output_type": "error",
     "traceback": [
      "\u001b[1;31m---------------------------------------------------------------------------\u001b[0m",
      "\u001b[1;31mTypeError\u001b[0m                                 Traceback (most recent call last)",
      "Cell \u001b[1;32mIn[32], line 1\u001b[0m\n\u001b[1;32m----> 1\u001b[0m score \u001b[38;5;241m+\u001b[39m \u001b[38;5;241m10\u001b[39m\n",
      "\u001b[1;31mTypeError\u001b[0m: can only concatenate str (not \"int\") to str"
     ]
    }
   ],
   "source": [
    "score + 10"
   ]
  },
  {
   "cell_type": "markdown",
   "id": "ba405c14",
   "metadata": {},
   "source": [
    "#### Data Types and their constructor\n",
    "\n",
    "- Integer - int()\n",
    "- String - str()\n",
    "- float - float()\n",
    "- Boolean - bool()"
   ]
  },
  {
   "cell_type": "code",
   "execution_count": 33,
   "id": "6da55540",
   "metadata": {},
   "outputs": [],
   "source": [
    "score = int(score)"
   ]
  },
  {
   "cell_type": "code",
   "execution_count": 35,
   "id": "cd52927a",
   "metadata": {},
   "outputs": [
    {
     "data": {
      "text/plain": [
       "int"
      ]
     },
     "execution_count": 35,
     "metadata": {},
     "output_type": "execute_result"
    }
   ],
   "source": [
    "type(score)"
   ]
  },
  {
   "cell_type": "code",
   "execution_count": 36,
   "id": "ad75d26b",
   "metadata": {},
   "outputs": [
    {
     "data": {
      "text/plain": [
       "80"
      ]
     },
     "execution_count": 36,
     "metadata": {},
     "output_type": "execute_result"
    }
   ],
   "source": [
    "score + 10"
   ]
  },
  {
   "cell_type": "code",
   "execution_count": 37,
   "id": "ea868084",
   "metadata": {},
   "outputs": [],
   "source": [
    "name = \"Deborah\""
   ]
  },
  {
   "cell_type": "code",
   "execution_count": 38,
   "id": "4a89f2cd",
   "metadata": {},
   "outputs": [
    {
     "ename": "ValueError",
     "evalue": "invalid literal for int() with base 10: 'Deborah'",
     "output_type": "error",
     "traceback": [
      "\u001b[1;31m---------------------------------------------------------------------------\u001b[0m",
      "\u001b[1;31mValueError\u001b[0m                                Traceback (most recent call last)",
      "Cell \u001b[1;32mIn[38], line 1\u001b[0m\n\u001b[1;32m----> 1\u001b[0m \u001b[38;5;28mint\u001b[39m(name)\n",
      "\u001b[1;31mValueError\u001b[0m: invalid literal for int() with base 10: 'Deborah'"
     ]
    }
   ],
   "source": [
    "int(name)"
   ]
  },
  {
   "cell_type": "code",
   "execution_count": 71,
   "id": "d5708f7f",
   "metadata": {},
   "outputs": [
    {
     "name": "stdout",
     "output_type": "stream",
     "text": [
      "enter the current price: 600\n",
      "The discounted price is 480.0\n",
      "The discounted price is 480.0\n",
      "The discounted price is 480.0\n"
     ]
    }
   ],
   "source": [
    "# User Input\n",
    "\n",
    "current_price = input(\"enter the current price: \") # create an input box and assign the value to current_price\n",
    "current_price = float(current_price) # cast the current_price and re-assign the value \n",
    "discounted_price = current_price * 0.8 # \n",
    "print(\"The discounted price is\",discounted_price)\n",
    "print(f\"The discounted price is {discounted_price}\")\n",
    "print('The discounted price is {}'.format(discounted_price))"
   ]
  },
  {
   "cell_type": "markdown",
   "id": "4da69c98",
   "metadata": {},
   "source": [
    "#### Exercise\n",
    "\n",
    "Using the input function, take the exam score and test score of a student and return the total score"
   ]
  },
  {
   "cell_type": "code",
   "execution_count": 50,
   "id": "d67c7e59",
   "metadata": {},
   "outputs": [
    {
     "name": "stdout",
     "output_type": "stream",
     "text": [
      "Enter your exam score : 50\n",
      "Enter your test score : 30\n",
      "80\n"
     ]
    }
   ],
   "source": [
    "exam_score = int(input('Enter your exam score : '))\n",
    "test_score = int(input('Enter your test score : '))\n",
    "total_score = exam_score + test_score\n",
    "print(total_score)"
   ]
  },
  {
   "cell_type": "markdown",
   "id": "14665793",
   "metadata": {},
   "source": [
    "#### Strings"
   ]
  },
  {
   "cell_type": "code",
   "execution_count": 51,
   "id": "7e5ddbea",
   "metadata": {},
   "outputs": [],
   "source": [
    "name = \"Debby\""
   ]
  },
  {
   "cell_type": "code",
   "execution_count": 52,
   "id": "9ebdbad1",
   "metadata": {},
   "outputs": [
    {
     "data": {
      "text/plain": [
       "str"
      ]
     },
     "execution_count": 52,
     "metadata": {},
     "output_type": "execute_result"
    }
   ],
   "source": [
    "type(name)"
   ]
  },
  {
   "cell_type": "markdown",
   "id": "0e0c99cb",
   "metadata": {},
   "source": [
    "#### String Indexing"
   ]
  },
  {
   "cell_type": "code",
   "execution_count": 53,
   "id": "0dd1b23a",
   "metadata": {},
   "outputs": [
    {
     "data": {
      "text/plain": [
       "'D'"
      ]
     },
     "execution_count": 53,
     "metadata": {},
     "output_type": "execute_result"
    }
   ],
   "source": [
    "name[0]"
   ]
  },
  {
   "cell_type": "code",
   "execution_count": 54,
   "id": "84e0a417",
   "metadata": {},
   "outputs": [
    {
     "data": {
      "text/plain": [
       "'y'"
      ]
     },
     "execution_count": 54,
     "metadata": {},
     "output_type": "execute_result"
    }
   ],
   "source": [
    "name[4]"
   ]
  },
  {
   "cell_type": "code",
   "execution_count": 55,
   "id": "2d5ad4ac",
   "metadata": {},
   "outputs": [
    {
     "data": {
      "text/plain": [
       "'D'"
      ]
     },
     "execution_count": 55,
     "metadata": {},
     "output_type": "execute_result"
    }
   ],
   "source": [
    "name[-5]"
   ]
  },
  {
   "cell_type": "code",
   "execution_count": 56,
   "id": "7d35ad52",
   "metadata": {},
   "outputs": [
    {
     "data": {
      "text/plain": [
       "'b'"
      ]
     },
     "execution_count": 56,
     "metadata": {},
     "output_type": "execute_result"
    }
   ],
   "source": [
    "name[-3]"
   ]
  },
  {
   "cell_type": "markdown",
   "id": "dc76fafc",
   "metadata": {},
   "source": [
    "#### String Slicing"
   ]
  },
  {
   "cell_type": "code",
   "execution_count": 57,
   "id": "b0bef0b3",
   "metadata": {},
   "outputs": [],
   "source": [
    "text = \"My name is Onyinye\""
   ]
  },
  {
   "cell_type": "code",
   "execution_count": 58,
   "id": "1cdff249",
   "metadata": {},
   "outputs": [
    {
     "data": {
      "text/plain": [
       "str"
      ]
     },
     "execution_count": 58,
     "metadata": {},
     "output_type": "execute_result"
    }
   ],
   "source": [
    "type(text)"
   ]
  },
  {
   "cell_type": "code",
   "execution_count": 61,
   "id": "2bdc08d0",
   "metadata": {},
   "outputs": [
    {
     "data": {
      "text/plain": [
       "'Onyinye'"
      ]
     },
     "execution_count": 61,
     "metadata": {},
     "output_type": "execute_result"
    }
   ],
   "source": [
    "text[11:18]"
   ]
  },
  {
   "cell_type": "code",
   "execution_count": 62,
   "id": "efa5c376",
   "metadata": {},
   "outputs": [
    {
     "data": {
      "text/plain": [
       "'Onyinye'"
      ]
     },
     "execution_count": 62,
     "metadata": {},
     "output_type": "execute_result"
    }
   ],
   "source": [
    "text[11:]"
   ]
  },
  {
   "cell_type": "markdown",
   "id": "452be1a5",
   "metadata": {},
   "source": [
    "#### Exercise\n",
    "\n",
    "Slice out 'name' from the text variable. Assign it to a new variable and print out the new variable"
   ]
  },
  {
   "cell_type": "code",
   "execution_count": 63,
   "id": "12388c97",
   "metadata": {},
   "outputs": [
    {
     "name": "stdout",
     "output_type": "stream",
     "text": [
      "name\n"
     ]
    }
   ],
   "source": [
    "name = text[3:7]\n",
    "print(name)"
   ]
  },
  {
   "cell_type": "code",
   "execution_count": 68,
   "id": "aa251c47",
   "metadata": {},
   "outputs": [
    {
     "name": "stdout",
     "output_type": "stream",
     "text": [
      "The total score is 90\n",
      "The total score is 90\n",
      "The total score is 90\n"
     ]
    }
   ],
   "source": [
    "### String Formatting\n",
    "\n",
    "test_score = 40\n",
    "exam_score = 50\n",
    "\n",
    "total_score = test_score + exam_score\n",
    "\n",
    "\n",
    "# 1st Mtd\n",
    "print(\"The total score is\", total_score)\n",
    "\n",
    "# 2nd Mtd\n",
    "print(f\"The total score is {total_score}\")\n",
    "\n",
    "# 3rd Mtd\n",
    "print(\"The total score is {}\".format(total_score))"
   ]
  },
  {
   "cell_type": "code",
   "execution_count": 77,
   "id": "6d45d08e",
   "metadata": {},
   "outputs": [
    {
     "name": "stdout",
     "output_type": "stream",
     "text": [
      "your test score is 40 and your exam score is 50\n"
     ]
    }
   ],
   "source": [
    "test_score = 40\n",
    "exam_score = 50\n",
    "\n",
    "print(\"your test score is\",test_score, \"and your exam score is\",exam_score)"
   ]
  },
  {
   "cell_type": "code",
   "execution_count": 78,
   "id": "7d056d20",
   "metadata": {},
   "outputs": [
    {
     "name": "stdout",
     "output_type": "stream",
     "text": [
      "Your test score is 40 and your exam score is 50\n"
     ]
    }
   ],
   "source": [
    "print(f'Your test score is {test_score} and your exam score is {exam_score}')"
   ]
  },
  {
   "cell_type": "code",
   "execution_count": 80,
   "id": "94ab8c46",
   "metadata": {},
   "outputs": [
    {
     "name": "stdout",
     "output_type": "stream",
     "text": [
      "Your test score is 40 and your exam score is 50\n"
     ]
    }
   ],
   "source": [
    "print('Your test score is {} and your exam score is {}'.format(test_score, exam_score))"
   ]
  },
  {
   "cell_type": "markdown",
   "id": "6e758e4c",
   "metadata": {},
   "source": [
    "#### String Methods\n",
    "\n",
    "Methods are built-in functions that allow you to manipulate objects of a specific data type"
   ]
  },
  {
   "cell_type": "code",
   "execution_count": 81,
   "id": "c0522573",
   "metadata": {},
   "outputs": [],
   "source": [
    "name = \"Deborah\"\n",
    "\n",
    "# name variable is an object of the string data type"
   ]
  },
  {
   "cell_type": "code",
   "execution_count": 87,
   "id": "9d1e34e3",
   "metadata": {},
   "outputs": [
    {
     "data": {
      "text/plain": [
       "['__add__',\n",
       " '__class__',\n",
       " '__contains__',\n",
       " '__delattr__',\n",
       " '__dir__',\n",
       " '__doc__',\n",
       " '__eq__',\n",
       " '__format__',\n",
       " '__ge__',\n",
       " '__getattribute__',\n",
       " '__getitem__',\n",
       " '__getnewargs__',\n",
       " '__getstate__',\n",
       " '__gt__',\n",
       " '__hash__',\n",
       " '__init__',\n",
       " '__init_subclass__',\n",
       " '__iter__',\n",
       " '__le__',\n",
       " '__len__',\n",
       " '__lt__',\n",
       " '__mod__',\n",
       " '__mul__',\n",
       " '__ne__',\n",
       " '__new__',\n",
       " '__reduce__',\n",
       " '__reduce_ex__',\n",
       " '__repr__',\n",
       " '__rmod__',\n",
       " '__rmul__',\n",
       " '__setattr__',\n",
       " '__sizeof__',\n",
       " '__str__',\n",
       " '__subclasshook__',\n",
       " 'capitalize',\n",
       " 'casefold',\n",
       " 'center',\n",
       " 'count',\n",
       " 'encode',\n",
       " 'endswith',\n",
       " 'expandtabs',\n",
       " 'find',\n",
       " 'format',\n",
       " 'format_map',\n",
       " 'index',\n",
       " 'isalnum',\n",
       " 'isalpha',\n",
       " 'isascii',\n",
       " 'isdecimal',\n",
       " 'isdigit',\n",
       " 'isidentifier',\n",
       " 'islower',\n",
       " 'isnumeric',\n",
       " 'isprintable',\n",
       " 'isspace',\n",
       " 'istitle',\n",
       " 'isupper',\n",
       " 'join',\n",
       " 'ljust',\n",
       " 'lower',\n",
       " 'lstrip',\n",
       " 'maketrans',\n",
       " 'partition',\n",
       " 'removeprefix',\n",
       " 'removesuffix',\n",
       " 'replace',\n",
       " 'rfind',\n",
       " 'rindex',\n",
       " 'rjust',\n",
       " 'rpartition',\n",
       " 'rsplit',\n",
       " 'rstrip',\n",
       " 'split',\n",
       " 'splitlines',\n",
       " 'startswith',\n",
       " 'strip',\n",
       " 'swapcase',\n",
       " 'title',\n",
       " 'translate',\n",
       " 'upper',\n",
       " 'zfill']"
      ]
     },
     "execution_count": 87,
     "metadata": {},
     "output_type": "execute_result"
    }
   ],
   "source": [
    "dir(name)"
   ]
  },
  {
   "cell_type": "code",
   "execution_count": 133,
   "id": "e66a21e9",
   "metadata": {},
   "outputs": [],
   "source": [
    "name = 'DEBORAH'"
   ]
  },
  {
   "cell_type": "code",
   "execution_count": 134,
   "id": "69c722c9",
   "metadata": {},
   "outputs": [
    {
     "name": "stdout",
     "output_type": "stream",
     "text": [
      "DEBORAH\n"
     ]
    }
   ],
   "source": [
    "print(name)"
   ]
  },
  {
   "cell_type": "code",
   "execution_count": 136,
   "id": "c4775aa0",
   "metadata": {},
   "outputs": [],
   "source": [
    "name = name.lower() #re-assignment"
   ]
  },
  {
   "cell_type": "code",
   "execution_count": 102,
   "id": "e23df42d",
   "metadata": {},
   "outputs": [
    {
     "name": "stdout",
     "output_type": "stream",
     "text": [
      "deborah\n"
     ]
    }
   ],
   "source": [
    "print(name)"
   ]
  },
  {
   "cell_type": "code",
   "execution_count": 92,
   "id": "ffb2d4c8",
   "metadata": {},
   "outputs": [],
   "source": [
    "name = name.lstrip()"
   ]
  },
  {
   "cell_type": "code",
   "execution_count": 93,
   "id": "b7aae5cd",
   "metadata": {},
   "outputs": [
    {
     "name": "stdout",
     "output_type": "stream",
     "text": [
      "DEBORAH\n"
     ]
    }
   ],
   "source": [
    "print(name)"
   ]
  },
  {
   "cell_type": "code",
   "execution_count": 103,
   "id": "a26920b8",
   "metadata": {},
   "outputs": [],
   "source": [
    "amount = \"N 400\""
   ]
  },
  {
   "cell_type": "code",
   "execution_count": 105,
   "id": "b65e9b8a",
   "metadata": {},
   "outputs": [],
   "source": [
    "amount = amount.replace(\"N \", \"\")"
   ]
  },
  {
   "cell_type": "code",
   "execution_count": 106,
   "id": "69779e30",
   "metadata": {},
   "outputs": [
    {
     "data": {
      "text/plain": [
       "'400'"
      ]
     },
     "execution_count": 106,
     "metadata": {},
     "output_type": "execute_result"
    }
   ],
   "source": [
    "amount"
   ]
  },
  {
   "cell_type": "code",
   "execution_count": 107,
   "id": "ff4997f6",
   "metadata": {
    "scrolled": true
   },
   "outputs": [
    {
     "data": {
      "text/plain": [
       "400"
      ]
     },
     "execution_count": 107,
     "metadata": {},
     "output_type": "execute_result"
    }
   ],
   "source": [
    "int(amount)"
   ]
  },
  {
   "cell_type": "code",
   "execution_count": 111,
   "id": "c4cdc8ad",
   "metadata": {},
   "outputs": [
    {
     "name": "stdout",
     "output_type": "stream",
     "text": [
      "gender_one : male\n",
      "gender two : male\n"
     ]
    }
   ],
   "source": [
    "gender_one = \" MaLE\"\n",
    "gender_two = \"maLLE\"\n",
    "\n",
    "# Method chaining\n",
    "gender_one = gender_one.replace(\" \", \"\").lower()\n",
    "print(f'gender_one : {gender_one}')\n",
    "\n",
    "gender_two = gender_two.replace(\"maLLE\", \"male\")\n",
    "print(f'gender two : {gender_two}')"
   ]
  },
  {
   "cell_type": "code",
   "execution_count": 153,
   "id": "a6f006c4",
   "metadata": {},
   "outputs": [
    {
     "data": {
      "text/plain": [
       "'MaLE'"
      ]
     },
     "execution_count": 153,
     "metadata": {},
     "output_type": "execute_result"
    }
   ],
   "source": [
    "gender_one = \" MaLE\"\n",
    "\n",
    "gender_one.replace(\" \", \"\")"
   ]
  },
  {
   "cell_type": "code",
   "execution_count": 115,
   "id": "b5c239f1",
   "metadata": {},
   "outputs": [
    {
     "name": "stdout",
     "output_type": "stream",
     "text": [
      "Fisayo Olupitan\n"
     ]
    }
   ],
   "source": [
    "## String Concatenation\n",
    "\n",
    "## + operator is used for concatenation\n",
    "\n",
    "first_name = \"Fisayo\"\n",
    "\n",
    "last_name = \"Olupitan\"\n",
    "\n",
    "full_name = first_name + \" \" + last_name\n",
    "\n",
    "print(full_name)"
   ]
  },
  {
   "cell_type": "markdown",
   "id": "3a376159",
   "metadata": {},
   "source": [
    "#### Sequence Data Types \n",
    "\n",
    "provide a way for us to store multiple values at the same time\n",
    "\n",
    "- List\n",
    "\n",
    "- Tuple \n",
    "\n",
    "- Set \n",
    "\n",
    "- Dictionary"
   ]
  },
  {
   "cell_type": "code",
   "execution_count": 142,
   "id": "2feb438b",
   "metadata": {},
   "outputs": [],
   "source": [
    "# List \n",
    "\n",
    "names = [\"Debby\", 'Fisayo', 'Fidelis', 'Onyinye', 'Ada']"
   ]
  },
  {
   "cell_type": "code",
   "execution_count": 117,
   "id": "7f9fe91d",
   "metadata": {},
   "outputs": [
    {
     "data": {
      "text/plain": [
       "list"
      ]
     },
     "execution_count": 117,
     "metadata": {},
     "output_type": "execute_result"
    }
   ],
   "source": [
    "type(names)"
   ]
  },
  {
   "cell_type": "code",
   "execution_count": 118,
   "id": "7e7a1d0f",
   "metadata": {},
   "outputs": [],
   "source": [
    "scores = [60, 67, 60, 78, 50]"
   ]
  },
  {
   "cell_type": "code",
   "execution_count": 119,
   "id": "2b195140",
   "metadata": {},
   "outputs": [
    {
     "data": {
      "text/plain": [
       "list"
      ]
     },
     "execution_count": 119,
     "metadata": {},
     "output_type": "execute_result"
    }
   ],
   "source": [
    "type(scores)"
   ]
  },
  {
   "cell_type": "code",
   "execution_count": 120,
   "id": "3bb07dc5",
   "metadata": {},
   "outputs": [
    {
     "data": {
      "text/plain": [
       "'Debby'"
      ]
     },
     "execution_count": 120,
     "metadata": {},
     "output_type": "execute_result"
    }
   ],
   "source": [
    "# Ordered \n",
    "\n",
    "names[0]"
   ]
  },
  {
   "cell_type": "code",
   "execution_count": 121,
   "id": "3a3f47bf",
   "metadata": {},
   "outputs": [
    {
     "data": {
      "text/plain": [
       "'Onyinye'"
      ]
     },
     "execution_count": 121,
     "metadata": {},
     "output_type": "execute_result"
    }
   ],
   "source": [
    "names[3]"
   ]
  },
  {
   "cell_type": "code",
   "execution_count": 122,
   "id": "cf51bb8b",
   "metadata": {},
   "outputs": [
    {
     "data": {
      "text/plain": [
       "'Debby'"
      ]
     },
     "execution_count": 122,
     "metadata": {},
     "output_type": "execute_result"
    }
   ],
   "source": [
    "names[-5]"
   ]
  },
  {
   "cell_type": "code",
   "execution_count": 123,
   "id": "22c118f4",
   "metadata": {},
   "outputs": [
    {
     "data": {
      "text/plain": [
       "['__add__',\n",
       " '__class__',\n",
       " '__class_getitem__',\n",
       " '__contains__',\n",
       " '__delattr__',\n",
       " '__delitem__',\n",
       " '__dir__',\n",
       " '__doc__',\n",
       " '__eq__',\n",
       " '__format__',\n",
       " '__ge__',\n",
       " '__getattribute__',\n",
       " '__getitem__',\n",
       " '__getstate__',\n",
       " '__gt__',\n",
       " '__hash__',\n",
       " '__iadd__',\n",
       " '__imul__',\n",
       " '__init__',\n",
       " '__init_subclass__',\n",
       " '__iter__',\n",
       " '__le__',\n",
       " '__len__',\n",
       " '__lt__',\n",
       " '__mul__',\n",
       " '__ne__',\n",
       " '__new__',\n",
       " '__reduce__',\n",
       " '__reduce_ex__',\n",
       " '__repr__',\n",
       " '__reversed__',\n",
       " '__rmul__',\n",
       " '__setattr__',\n",
       " '__setitem__',\n",
       " '__sizeof__',\n",
       " '__str__',\n",
       " '__subclasshook__',\n",
       " 'append',\n",
       " 'clear',\n",
       " 'copy',\n",
       " 'count',\n",
       " 'extend',\n",
       " 'index',\n",
       " 'insert',\n",
       " 'pop',\n",
       " 'remove',\n",
       " 'reverse',\n",
       " 'sort']"
      ]
     },
     "execution_count": 123,
     "metadata": {},
     "output_type": "execute_result"
    }
   ],
   "source": [
    "# mutable - the values can change\n",
    "\n",
    "dir(names)"
   ]
  },
  {
   "cell_type": "code",
   "execution_count": 143,
   "id": "4591114f",
   "metadata": {},
   "outputs": [],
   "source": [
    "names.append('Funmi')"
   ]
  },
  {
   "cell_type": "code",
   "execution_count": 144,
   "id": "a87035f5",
   "metadata": {},
   "outputs": [
    {
     "data": {
      "text/plain": [
       "['Debby', 'Fisayo', 'Fidelis', 'Onyinye', 'Ada', 'Funmi']"
      ]
     },
     "execution_count": 144,
     "metadata": {},
     "output_type": "execute_result"
    }
   ],
   "source": [
    "names"
   ]
  },
  {
   "cell_type": "code",
   "execution_count": 145,
   "id": "8f475d52",
   "metadata": {},
   "outputs": [],
   "source": [
    "names.remove(\"Debby\")"
   ]
  },
  {
   "cell_type": "code",
   "execution_count": 146,
   "id": "acf9d0f5",
   "metadata": {},
   "outputs": [
    {
     "data": {
      "text/plain": [
       "['Fisayo', 'Fidelis', 'Onyinye', 'Ada', 'Funmi']"
      ]
     },
     "execution_count": 146,
     "metadata": {},
     "output_type": "execute_result"
    }
   ],
   "source": [
    "names"
   ]
  },
  {
   "cell_type": "code",
   "execution_count": 148,
   "id": "3315effc",
   "metadata": {},
   "outputs": [],
   "source": [
    "popped_name = names.pop()"
   ]
  },
  {
   "cell_type": "code",
   "execution_count": 149,
   "id": "4cb299ad",
   "metadata": {},
   "outputs": [
    {
     "data": {
      "text/plain": [
       "['Fisayo', 'Fidelis', 'Onyinye']"
      ]
     },
     "execution_count": 149,
     "metadata": {},
     "output_type": "execute_result"
    }
   ],
   "source": [
    "names"
   ]
  },
  {
   "cell_type": "code",
   "execution_count": 150,
   "id": "191bea26",
   "metadata": {},
   "outputs": [
    {
     "data": {
      "text/plain": [
       "'Ada'"
      ]
     },
     "execution_count": 150,
     "metadata": {},
     "output_type": "execute_result"
    }
   ],
   "source": [
    "popped_name"
   ]
  },
  {
   "cell_type": "code",
   "execution_count": 151,
   "id": "36dffea2",
   "metadata": {},
   "outputs": [
    {
     "data": {
      "text/plain": [
       "[60, 67, 60, 78, 50]"
      ]
     },
     "execution_count": 151,
     "metadata": {},
     "output_type": "execute_result"
    }
   ],
   "source": [
    "scores"
   ]
  },
  {
   "cell_type": "code",
   "execution_count": 154,
   "id": "ba6e677c",
   "metadata": {},
   "outputs": [
    {
     "name": "stdout",
     "output_type": "stream",
     "text": [
      "95\n",
      "[67, 60, 78, 50, 90]\n"
     ]
    }
   ],
   "source": [
    "scores.append(95)\n",
    "\n",
    "scores.remove(60)\n",
    "\n",
    "pop_item = scores.pop()\n",
    "\n",
    "print(pop_item)\n",
    "print(scores)"
   ]
  },
  {
   "cell_type": "code",
   "execution_count": 155,
   "id": "3789e388",
   "metadata": {},
   "outputs": [],
   "source": [
    "## List can have duplicates"
   ]
  },
  {
   "cell_type": "markdown",
   "id": "fadc6fea",
   "metadata": {},
   "source": [
    "#### Tuple"
   ]
  },
  {
   "cell_type": "code",
   "execution_count": 166,
   "id": "8f66c181",
   "metadata": {},
   "outputs": [],
   "source": [
    "fruits = (\"apple\", \"pineapple\", \"banana\", \"guava\",\"apple\")"
   ]
  },
  {
   "cell_type": "code",
   "execution_count": 167,
   "id": "43b92e7b",
   "metadata": {},
   "outputs": [
    {
     "data": {
      "text/plain": [
       "tuple"
      ]
     },
     "execution_count": 167,
     "metadata": {},
     "output_type": "execute_result"
    }
   ],
   "source": [
    "type(fruits)"
   ]
  },
  {
   "cell_type": "code",
   "execution_count": 168,
   "id": "80c48ca7",
   "metadata": {},
   "outputs": [
    {
     "data": {
      "text/plain": [
       "'apple'"
      ]
     },
     "execution_count": 168,
     "metadata": {},
     "output_type": "execute_result"
    }
   ],
   "source": [
    "# it is ordered\n",
    "\n",
    "fruits[0]"
   ]
  },
  {
   "cell_type": "code",
   "execution_count": 169,
   "id": "7d2c1f8c",
   "metadata": {},
   "outputs": [
    {
     "data": {
      "text/plain": [
       "'guava'"
      ]
     },
     "execution_count": 169,
     "metadata": {},
     "output_type": "execute_result"
    }
   ],
   "source": [
    "fruits[-2]"
   ]
  },
  {
   "cell_type": "code",
   "execution_count": 170,
   "id": "082cc945",
   "metadata": {},
   "outputs": [
    {
     "data": {
      "text/plain": [
       "('apple', 'pineapple')"
      ]
     },
     "execution_count": 170,
     "metadata": {},
     "output_type": "execute_result"
    }
   ],
   "source": [
    "fruits[0:2]"
   ]
  },
  {
   "cell_type": "code",
   "execution_count": 171,
   "id": "d81810a2",
   "metadata": {},
   "outputs": [
    {
     "data": {
      "text/plain": [
       "('apple', 'pineapple')"
      ]
     },
     "execution_count": 171,
     "metadata": {},
     "output_type": "execute_result"
    }
   ],
   "source": [
    "fruits[:2]"
   ]
  },
  {
   "cell_type": "code",
   "execution_count": 172,
   "id": "450416aa",
   "metadata": {},
   "outputs": [
    {
     "data": {
      "text/plain": [
       "['__add__',\n",
       " '__class__',\n",
       " '__class_getitem__',\n",
       " '__contains__',\n",
       " '__delattr__',\n",
       " '__dir__',\n",
       " '__doc__',\n",
       " '__eq__',\n",
       " '__format__',\n",
       " '__ge__',\n",
       " '__getattribute__',\n",
       " '__getitem__',\n",
       " '__getnewargs__',\n",
       " '__getstate__',\n",
       " '__gt__',\n",
       " '__hash__',\n",
       " '__init__',\n",
       " '__init_subclass__',\n",
       " '__iter__',\n",
       " '__le__',\n",
       " '__len__',\n",
       " '__lt__',\n",
       " '__mul__',\n",
       " '__ne__',\n",
       " '__new__',\n",
       " '__reduce__',\n",
       " '__reduce_ex__',\n",
       " '__repr__',\n",
       " '__rmul__',\n",
       " '__setattr__',\n",
       " '__sizeof__',\n",
       " '__str__',\n",
       " '__subclasshook__',\n",
       " 'count',\n",
       " 'index']"
      ]
     },
     "execution_count": 172,
     "metadata": {},
     "output_type": "execute_result"
    }
   ],
   "source": [
    "# it is not mutable\n",
    "\n",
    "dir(fruits)"
   ]
  },
  {
   "cell_type": "code",
   "execution_count": 173,
   "id": "f23cf54e",
   "metadata": {},
   "outputs": [
    {
     "data": {
      "text/plain": [
       "2"
      ]
     },
     "execution_count": 173,
     "metadata": {},
     "output_type": "execute_result"
    }
   ],
   "source": [
    "fruits.count('apple')"
   ]
  },
  {
   "cell_type": "markdown",
   "id": "5f99f53f",
   "metadata": {},
   "source": [
    "#### cast tuple to a list\n",
    "\n",
    "- tuple : tuple()\n",
    "- list : list()"
   ]
  },
  {
   "cell_type": "code",
   "execution_count": 174,
   "id": "a64a980d",
   "metadata": {},
   "outputs": [],
   "source": [
    "fruits = list(fruits)"
   ]
  },
  {
   "cell_type": "code",
   "execution_count": 175,
   "id": "427aa7b5",
   "metadata": {},
   "outputs": [
    {
     "data": {
      "text/plain": [
       "['apple', 'pineapple', 'banana', 'guava', 'apple']"
      ]
     },
     "execution_count": 175,
     "metadata": {},
     "output_type": "execute_result"
    }
   ],
   "source": [
    "fruits"
   ]
  },
  {
   "cell_type": "markdown",
   "id": "cec53059",
   "metadata": {},
   "source": [
    "#### Exercise \n",
    "\n",
    "Create 1 variables. The variable should be a list of numbers. Sort the numbers and print a new list"
   ]
  },
  {
   "cell_type": "code",
   "execution_count": 179,
   "id": "1485c262",
   "metadata": {},
   "outputs": [
    {
     "name": "stdout",
     "output_type": "stream",
     "text": [
      "The new list is : [3, 5, 8, 10, 12, 13]\n"
     ]
    }
   ],
   "source": [
    "list_of_numbers = [3,5,12,13,8,10]\n",
    "\n",
    "list_of_numbers.sort()\n",
    "\n",
    "new_list = list_of_numbers\n",
    "\n",
    "print(f'The new list is : {new_list}')"
   ]
  },
  {
   "cell_type": "code",
   "execution_count": 177,
   "id": "a0abd116",
   "metadata": {},
   "outputs": [],
   "source": [
    "list_of_numbers.sort()"
   ]
  },
  {
   "cell_type": "markdown",
   "id": "c5ae1539",
   "metadata": {},
   "source": [
    "#### Sets"
   ]
  },
  {
   "cell_type": "code",
   "execution_count": 3,
   "id": "608934fc",
   "metadata": {},
   "outputs": [],
   "source": [
    "fruits = {'apple', 'banana', 'guava', 'apple'}"
   ]
  },
  {
   "cell_type": "code",
   "execution_count": 4,
   "id": "59b8289b",
   "metadata": {},
   "outputs": [
    {
     "data": {
      "text/plain": [
       "set"
      ]
     },
     "execution_count": 4,
     "metadata": {},
     "output_type": "execute_result"
    }
   ],
   "source": [
    "type(fruits)"
   ]
  },
  {
   "cell_type": "code",
   "execution_count": 6,
   "id": "fcccc020",
   "metadata": {},
   "outputs": [
    {
     "name": "stdout",
     "output_type": "stream",
     "text": [
      "{'guava', 'banana', 'apple'}\n"
     ]
    }
   ],
   "source": [
    "print(fruits)\n",
    "\n",
    "## Sets cannot take duplicates"
   ]
  },
  {
   "cell_type": "code",
   "execution_count": 7,
   "id": "8c91f465",
   "metadata": {},
   "outputs": [
    {
     "ename": "TypeError",
     "evalue": "'set' object is not subscriptable",
     "output_type": "error",
     "traceback": [
      "\u001b[1;31m---------------------------------------------------------------------------\u001b[0m",
      "\u001b[1;31mTypeError\u001b[0m                                 Traceback (most recent call last)",
      "Cell \u001b[1;32mIn[7], line 1\u001b[0m\n\u001b[1;32m----> 1\u001b[0m fruits[\u001b[38;5;241m0\u001b[39m]\n",
      "\u001b[1;31mTypeError\u001b[0m: 'set' object is not subscriptable"
     ]
    }
   ],
   "source": [
    "fruits[0]\n",
    "\n",
    "## Sets are unordered"
   ]
  },
  {
   "cell_type": "code",
   "execution_count": 9,
   "id": "ce125382",
   "metadata": {},
   "outputs": [
    {
     "data": {
      "text/plain": [
       "['__and__',\n",
       " '__class__',\n",
       " '__class_getitem__',\n",
       " '__contains__',\n",
       " '__delattr__',\n",
       " '__dir__',\n",
       " '__doc__',\n",
       " '__eq__',\n",
       " '__format__',\n",
       " '__ge__',\n",
       " '__getattribute__',\n",
       " '__getstate__',\n",
       " '__gt__',\n",
       " '__hash__',\n",
       " '__iand__',\n",
       " '__init__',\n",
       " '__init_subclass__',\n",
       " '__ior__',\n",
       " '__isub__',\n",
       " '__iter__',\n",
       " '__ixor__',\n",
       " '__le__',\n",
       " '__len__',\n",
       " '__lt__',\n",
       " '__ne__',\n",
       " '__new__',\n",
       " '__or__',\n",
       " '__rand__',\n",
       " '__reduce__',\n",
       " '__reduce_ex__',\n",
       " '__repr__',\n",
       " '__ror__',\n",
       " '__rsub__',\n",
       " '__rxor__',\n",
       " '__setattr__',\n",
       " '__sizeof__',\n",
       " '__str__',\n",
       " '__sub__',\n",
       " '__subclasshook__',\n",
       " '__xor__',\n",
       " 'add',\n",
       " 'clear',\n",
       " 'copy',\n",
       " 'difference',\n",
       " 'difference_update',\n",
       " 'discard',\n",
       " 'intersection',\n",
       " 'intersection_update',\n",
       " 'isdisjoint',\n",
       " 'issubset',\n",
       " 'issuperset',\n",
       " 'pop',\n",
       " 'remove',\n",
       " 'symmetric_difference',\n",
       " 'symmetric_difference_update',\n",
       " 'union',\n",
       " 'update']"
      ]
     },
     "execution_count": 9,
     "metadata": {},
     "output_type": "execute_result"
    }
   ],
   "source": [
    "### Sets are mutable\n",
    "\n",
    "dir(fruits)"
   ]
  },
  {
   "cell_type": "code",
   "execution_count": 10,
   "id": "3878f8e4",
   "metadata": {},
   "outputs": [],
   "source": [
    "numbers = [2,3,4,5,6]\n",
    "\n",
    "numbers[0] = 3"
   ]
  },
  {
   "cell_type": "code",
   "execution_count": 11,
   "id": "0d3b0da9",
   "metadata": {},
   "outputs": [
    {
     "data": {
      "text/plain": [
       "[3, 3, 4, 5, 6]"
      ]
     },
     "execution_count": 11,
     "metadata": {},
     "output_type": "execute_result"
    }
   ],
   "source": [
    "numbers"
   ]
  },
  {
   "cell_type": "code",
   "execution_count": 12,
   "id": "5fe81db7",
   "metadata": {},
   "outputs": [
    {
     "data": {
      "text/plain": [
       "{'apple', 'banana', 'guava'}"
      ]
     },
     "execution_count": 12,
     "metadata": {},
     "output_type": "execute_result"
    }
   ],
   "source": [
    "fruits"
   ]
  },
  {
   "cell_type": "code",
   "execution_count": 13,
   "id": "67d05784",
   "metadata": {},
   "outputs": [
    {
     "data": {
      "text/plain": [
       "'guava'"
      ]
     },
     "execution_count": 13,
     "metadata": {},
     "output_type": "execute_result"
    }
   ],
   "source": [
    "fruits.pop()"
   ]
  },
  {
   "cell_type": "code",
   "execution_count": 14,
   "id": "8be98464",
   "metadata": {},
   "outputs": [
    {
     "data": {
      "text/plain": [
       "{'apple', 'banana'}"
      ]
     },
     "execution_count": 14,
     "metadata": {},
     "output_type": "execute_result"
    }
   ],
   "source": [
    "fruits"
   ]
  },
  {
   "cell_type": "code",
   "execution_count": 19,
   "id": "53ca0589",
   "metadata": {},
   "outputs": [],
   "source": [
    "fruits.update({'pineapple'})"
   ]
  },
  {
   "cell_type": "code",
   "execution_count": 20,
   "id": "0929eb32",
   "metadata": {},
   "outputs": [
    {
     "data": {
      "text/plain": [
       "{'O', 'a', 'apple', 'banana', 'e', 'g', 'n', 'pineapple', 'r'}"
      ]
     },
     "execution_count": 20,
     "metadata": {},
     "output_type": "execute_result"
    }
   ],
   "source": [
    "fruits"
   ]
  },
  {
   "cell_type": "markdown",
   "id": "748df5f7",
   "metadata": {},
   "source": [
    "#### Dictionary"
   ]
  },
  {
   "cell_type": "code",
   "execution_count": 21,
   "id": "18d9e821",
   "metadata": {},
   "outputs": [],
   "source": [
    "student_scores = { 'Deborah': 60, 'Moses':70, 'Temi':57, 'Fisayo':90 }"
   ]
  },
  {
   "cell_type": "code",
   "execution_count": 22,
   "id": "9cd5c44e",
   "metadata": {},
   "outputs": [
    {
     "data": {
      "text/plain": [
       "dict"
      ]
     },
     "execution_count": 22,
     "metadata": {},
     "output_type": "execute_result"
    }
   ],
   "source": [
    "type(student_scores)"
   ]
  },
  {
   "cell_type": "markdown",
   "id": "8e1785bc",
   "metadata": {},
   "source": [
    "### Exercise\n",
    "\n",
    "Create 2 variables, the first one should be a set (5 items of instrument found in a math set), while the second should be a dictionary of coutry and their capital city(5 items)."
   ]
  },
  {
   "cell_type": "code",
   "execution_count": 23,
   "id": "44f00013",
   "metadata": {},
   "outputs": [],
   "source": [
    "math_set = {'pencil', 'eraser', 'divider', 'compass', 'protractor'}\n",
    "\n",
    "countries_capital = {\n",
    "    'Nigeria':'Abuja',\n",
    "    'Ghana': 'Accra',\n",
    "    'Ivory Coast':'Abidjan',\n",
    "    'Togo':'Lome',\n",
    "    'Qatar': 'Doha'\n",
    "}"
   ]
  },
  {
   "cell_type": "code",
   "execution_count": 24,
   "id": "e1ed357b",
   "metadata": {},
   "outputs": [
    {
     "data": {
      "text/plain": [
       "{'Deborah': 60, 'Moses': 70, 'Temi': 57, 'Fisayo': 90}"
      ]
     },
     "execution_count": 24,
     "metadata": {},
     "output_type": "execute_result"
    }
   ],
   "source": [
    "student_scores"
   ]
  },
  {
   "cell_type": "code",
   "execution_count": 25,
   "id": "c9d95c89",
   "metadata": {},
   "outputs": [
    {
     "data": {
      "text/plain": [
       "dict_keys(['Deborah', 'Moses', 'Temi', 'Fisayo'])"
      ]
     },
     "execution_count": 25,
     "metadata": {},
     "output_type": "execute_result"
    }
   ],
   "source": [
    "student_scores.keys()"
   ]
  },
  {
   "cell_type": "code",
   "execution_count": 26,
   "id": "e212af90",
   "metadata": {},
   "outputs": [],
   "source": [
    "# Dictionaries are mutable\n",
    "\n",
    "student_scores['Fidelis'] = 80"
   ]
  },
  {
   "cell_type": "code",
   "execution_count": 27,
   "id": "99ceab7f",
   "metadata": {},
   "outputs": [
    {
     "data": {
      "text/plain": [
       "{'Deborah': 60, 'Moses': 70, 'Temi': 57, 'Fisayo': 90, 'Fidelis': 80}"
      ]
     },
     "execution_count": 27,
     "metadata": {},
     "output_type": "execute_result"
    }
   ],
   "source": [
    "student_scores"
   ]
  },
  {
   "cell_type": "code",
   "execution_count": 28,
   "id": "cd038a42",
   "metadata": {},
   "outputs": [],
   "source": [
    "student_scores['Moses'] = 45"
   ]
  },
  {
   "cell_type": "code",
   "execution_count": 29,
   "id": "cc93a4ae",
   "metadata": {},
   "outputs": [
    {
     "data": {
      "text/plain": [
       "{'Deborah': 60, 'Moses': 45, 'Temi': 57, 'Fisayo': 90, 'Fidelis': 80}"
      ]
     },
     "execution_count": 29,
     "metadata": {},
     "output_type": "execute_result"
    }
   ],
   "source": [
    "student_scores"
   ]
  },
  {
   "cell_type": "code",
   "execution_count": 32,
   "id": "38d71a4a",
   "metadata": {},
   "outputs": [
    {
     "data": {
      "text/plain": [
       "90"
      ]
     },
     "execution_count": 32,
     "metadata": {},
     "output_type": "execute_result"
    }
   ],
   "source": [
    "student_scores['Fisayo']"
   ]
  },
  {
   "cell_type": "code",
   "execution_count": 33,
   "id": "5c62c85a",
   "metadata": {},
   "outputs": [
    {
     "data": {
      "text/plain": [
       "['__class__',\n",
       " '__class_getitem__',\n",
       " '__contains__',\n",
       " '__delattr__',\n",
       " '__delitem__',\n",
       " '__dir__',\n",
       " '__doc__',\n",
       " '__eq__',\n",
       " '__format__',\n",
       " '__ge__',\n",
       " '__getattribute__',\n",
       " '__getitem__',\n",
       " '__getstate__',\n",
       " '__gt__',\n",
       " '__hash__',\n",
       " '__init__',\n",
       " '__init_subclass__',\n",
       " '__ior__',\n",
       " '__iter__',\n",
       " '__le__',\n",
       " '__len__',\n",
       " '__lt__',\n",
       " '__ne__',\n",
       " '__new__',\n",
       " '__or__',\n",
       " '__reduce__',\n",
       " '__reduce_ex__',\n",
       " '__repr__',\n",
       " '__reversed__',\n",
       " '__ror__',\n",
       " '__setattr__',\n",
       " '__setitem__',\n",
       " '__sizeof__',\n",
       " '__str__',\n",
       " '__subclasshook__',\n",
       " 'clear',\n",
       " 'copy',\n",
       " 'fromkeys',\n",
       " 'get',\n",
       " 'items',\n",
       " 'keys',\n",
       " 'pop',\n",
       " 'popitem',\n",
       " 'setdefault',\n",
       " 'update',\n",
       " 'values']"
      ]
     },
     "execution_count": 33,
     "metadata": {},
     "output_type": "execute_result"
    }
   ],
   "source": [
    "dir(student_scores)"
   ]
  },
  {
   "cell_type": "code",
   "execution_count": 34,
   "id": "54831dd6",
   "metadata": {},
   "outputs": [
    {
     "data": {
      "text/plain": [
       "90"
      ]
     },
     "execution_count": 34,
     "metadata": {},
     "output_type": "execute_result"
    }
   ],
   "source": [
    "student_scores.get('Fisayo')"
   ]
  },
  {
   "cell_type": "code",
   "execution_count": 35,
   "id": "e5a972a8",
   "metadata": {},
   "outputs": [
    {
     "data": {
      "text/plain": [
       "dict_values([60, 45, 57, 90, 80])"
      ]
     },
     "execution_count": 35,
     "metadata": {},
     "output_type": "execute_result"
    }
   ],
   "source": [
    "student_scores.values()"
   ]
  },
  {
   "cell_type": "markdown",
   "id": "2f6aef37",
   "metadata": {},
   "source": [
    "#### Conditional Statements"
   ]
  },
  {
   "cell_type": "code",
   "execution_count": null,
   "id": "964ee2da",
   "metadata": {},
   "outputs": [],
   "source": []
  }
 ],
 "metadata": {
  "kernelspec": {
   "display_name": "Python 3 (ipykernel)",
   "language": "python",
   "name": "python3"
  },
  "language_info": {
   "codemirror_mode": {
    "name": "ipython",
    "version": 3
   },
   "file_extension": ".py",
   "mimetype": "text/x-python",
   "name": "python",
   "nbconvert_exporter": "python",
   "pygments_lexer": "ipython3",
   "version": "3.11.5"
  }
 },
 "nbformat": 4,
 "nbformat_minor": 5
}
