{
 "cells": [
  {
   "cell_type": "markdown",
   "id": "ddd02081",
   "metadata": {},
   "source": [
    "#### Variables\n",
    "\n",
    "Variables are containers that hold data"
   ]
  },
  {
   "cell_type": "code",
   "execution_count": 3,
   "id": "d351d95e",
   "metadata": {},
   "outputs": [],
   "source": [
    "age = 28\n",
    "\n",
    "# = is an assignment operator"
   ]
  },
  {
   "cell_type": "code",
   "execution_count": 6,
   "id": "a08e697a",
   "metadata": {},
   "outputs": [
    {
     "name": "stdout",
     "output_type": "stream",
     "text": [
      "28\n"
     ]
    }
   ],
   "source": [
    "print(age)"
   ]
  },
  {
   "cell_type": "code",
   "execution_count": 9,
   "id": "13123baa",
   "metadata": {},
   "outputs": [],
   "source": [
    "name = \"Onyinye\""
   ]
  },
  {
   "cell_type": "code",
   "execution_count": 10,
   "id": "0e6a947a",
   "metadata": {},
   "outputs": [
    {
     "name": "stdout",
     "output_type": "stream",
     "text": [
      "onyinye\n"
     ]
    }
   ],
   "source": [
    "print(name)"
   ]
  },
  {
   "cell_type": "code",
   "execution_count": 11,
   "id": "e01b0865",
   "metadata": {},
   "outputs": [],
   "source": [
    "Age = 24"
   ]
  },
  {
   "cell_type": "code",
   "execution_count": 14,
   "id": "867862b0",
   "metadata": {},
   "outputs": [
    {
     "name": "stdout",
     "output_type": "stream",
     "text": [
      "24\n"
     ]
    }
   ],
   "source": [
    "print(Age)\n",
    "\n",
    "# Variable names are not case sensitive"
   ]
  },
  {
   "cell_type": "code",
   "execution_count": 13,
   "id": "35311967",
   "metadata": {},
   "outputs": [
    {
     "name": "stdout",
     "output_type": "stream",
     "text": [
      "28\n"
     ]
    }
   ],
   "source": [
    "print(age)"
   ]
  },
  {
   "cell_type": "markdown",
   "id": "990eebe0",
   "metadata": {},
   "source": [
    "### Conventions for naming variables\n",
    "\n",
    "- Variable name must start with a letter or an underscore (enforced)\n",
    "\n",
    "- Variables using lowercase excepts if they are constant.\n",
    "\n",
    "- Seperate variable names with more than one word with an underscore (snake casing)\n",
    "\n",
    "- Variable names should be descriptive"
   ]
  },
  {
   "cell_type": "code",
   "execution_count": 17,
   "id": "9ba8b007",
   "metadata": {},
   "outputs": [],
   "source": [
    "first_name = \"Hamad\"\n",
    "last_name =  \"Abdul\""
   ]
  },
  {
   "cell_type": "code",
   "execution_count": 19,
   "id": "743d4f8f",
   "metadata": {},
   "outputs": [],
   "source": [
    "# Variable re-assignment\n",
    "\n",
    "age = 30"
   ]
  },
  {
   "cell_type": "code",
   "execution_count": 20,
   "id": "05bfd682",
   "metadata": {},
   "outputs": [
    {
     "name": "stdout",
     "output_type": "stream",
     "text": [
      "30\n"
     ]
    }
   ],
   "source": [
    "print(age)"
   ]
  },
  {
   "cell_type": "code",
   "execution_count": 21,
   "id": "e7011d7e",
   "metadata": {},
   "outputs": [],
   "source": [
    "PI = 3.142"
   ]
  },
  {
   "cell_type": "code",
   "execution_count": 22,
   "id": "570f39a9",
   "metadata": {},
   "outputs": [],
   "source": [
    "city = \"Lagos\""
   ]
  },
  {
   "cell_type": "markdown",
   "id": "d6fa6417",
   "metadata": {},
   "source": [
    "### Data Types\n",
    "\n",
    "Represent the different types of data/values that we can store in a variable"
   ]
  },
  {
   "cell_type": "markdown",
   "id": "fbd75df3",
   "metadata": {},
   "source": [
    "#### Number \n",
    "\n",
    "- Integer : whole numbers\n",
    "\n",
    "- Float : Decimal numbers"
   ]
  },
  {
   "cell_type": "code",
   "execution_count": 23,
   "id": "921e9a37",
   "metadata": {},
   "outputs": [],
   "source": [
    "score = 60 \n",
    "\n",
    "# infer the type of the data"
   ]
  },
  {
   "cell_type": "code",
   "execution_count": 24,
   "id": "ebf85bbd",
   "metadata": {},
   "outputs": [
    {
     "data": {
      "text/plain": [
       "int"
      ]
     },
     "execution_count": 24,
     "metadata": {},
     "output_type": "execute_result"
    }
   ],
   "source": [
    "type(score)"
   ]
  },
  {
   "cell_type": "code",
   "execution_count": 30,
   "id": "ec2ba8dd",
   "metadata": {},
   "outputs": [],
   "source": [
    "height = 50.5"
   ]
  },
  {
   "cell_type": "code",
   "execution_count": 31,
   "id": "53a348b1",
   "metadata": {},
   "outputs": [
    {
     "data": {
      "text/plain": [
       "float"
      ]
     },
     "execution_count": 31,
     "metadata": {},
     "output_type": "execute_result"
    }
   ],
   "source": [
    "type(height)"
   ]
  },
  {
   "cell_type": "markdown",
   "id": "5fde1b64",
   "metadata": {},
   "source": [
    "The data type of the value you store in a variable would determine what you can do with it"
   ]
  },
  {
   "cell_type": "markdown",
   "id": "cbc29074",
   "metadata": {},
   "source": [
    "#### String\n",
    "\n",
    "Combination of characters"
   ]
  },
  {
   "cell_type": "code",
   "execution_count": 32,
   "id": "79067fa3",
   "metadata": {},
   "outputs": [],
   "source": [
    "name = \"Deborah\""
   ]
  },
  {
   "cell_type": "code",
   "execution_count": 33,
   "id": "0c862653",
   "metadata": {},
   "outputs": [
    {
     "data": {
      "text/plain": [
       "str"
      ]
     },
     "execution_count": 33,
     "metadata": {},
     "output_type": "execute_result"
    }
   ],
   "source": [
    "type(name)"
   ]
  },
  {
   "cell_type": "markdown",
   "id": "159bc82f",
   "metadata": {},
   "source": [
    "#### Boolean\n",
    "\n",
    "truth value of a condition"
   ]
  },
  {
   "cell_type": "code",
   "execution_count": 36,
   "id": "928fc9e7",
   "metadata": {},
   "outputs": [],
   "source": [
    "is_raining = False"
   ]
  },
  {
   "cell_type": "code",
   "execution_count": 37,
   "id": "9d41bdb8",
   "metadata": {},
   "outputs": [
    {
     "data": {
      "text/plain": [
       "bool"
      ]
     },
     "execution_count": 37,
     "metadata": {},
     "output_type": "execute_result"
    }
   ],
   "source": [
    "type(is_raining)"
   ]
  },
  {
   "cell_type": "markdown",
   "id": "7801b627",
   "metadata": {},
   "source": [
    "#### Comments\n",
    "\n",
    "- What the programmer writes to explain his code. \n",
    "\n",
    "**single line comment** \n",
    "\n",
    "**multi-line comment**"
   ]
  },
  {
   "cell_type": "code",
   "execution_count": 38,
   "id": "fc90efdc",
   "metadata": {},
   "outputs": [],
   "source": [
    "# the variable stores the value that tells us whether or not the weather is hot\n",
    "\n",
    "is_weather_hot = False"
   ]
  },
  {
   "cell_type": "code",
   "execution_count": 41,
   "id": "9f2b9de0",
   "metadata": {},
   "outputs": [
    {
     "name": "stdout",
     "output_type": "stream",
     "text": [
      "9\n"
     ]
    }
   ],
   "source": [
    "'''\n",
    "This is a multi\n",
    "line comment\n",
    "'''\n",
    "\n",
    "print(9)"
   ]
  },
  {
   "cell_type": "markdown",
   "id": "7c00ea5f",
   "metadata": {},
   "source": [
    "#### Python Operators\n",
    "\n",
    "#### Arithmetic Operators"
   ]
  },
  {
   "cell_type": "code",
   "execution_count": 42,
   "id": "b20abff1",
   "metadata": {},
   "outputs": [],
   "source": [
    "test_score = 20\n",
    "exam_score = 40"
   ]
  },
  {
   "cell_type": "code",
   "execution_count": 43,
   "id": "9b502d8e",
   "metadata": {},
   "outputs": [
    {
     "data": {
      "text/plain": [
       "60"
      ]
     },
     "execution_count": 43,
     "metadata": {},
     "output_type": "execute_result"
    }
   ],
   "source": [
    "# Arithmetic operators\n",
    "\n",
    "test_score + exam_score"
   ]
  },
  {
   "cell_type": "code",
   "execution_count": 44,
   "id": "1dec4fd4",
   "metadata": {},
   "outputs": [
    {
     "data": {
      "text/plain": [
       "-20"
      ]
     },
     "execution_count": 44,
     "metadata": {},
     "output_type": "execute_result"
    }
   ],
   "source": [
    "test_score - exam_score"
   ]
  },
  {
   "cell_type": "code",
   "execution_count": 45,
   "id": "65314024",
   "metadata": {},
   "outputs": [
    {
     "data": {
      "text/plain": [
       "800"
      ]
     },
     "execution_count": 45,
     "metadata": {},
     "output_type": "execute_result"
    }
   ],
   "source": [
    "test_score * exam_score"
   ]
  },
  {
   "cell_type": "code",
   "execution_count": 46,
   "id": "134873ed",
   "metadata": {},
   "outputs": [
    {
     "data": {
      "text/plain": [
       "2.0"
      ]
     },
     "execution_count": 46,
     "metadata": {},
     "output_type": "execute_result"
    }
   ],
   "source": [
    "exam_score / test_score"
   ]
  },
  {
   "cell_type": "code",
   "execution_count": 1,
   "id": "2d041db2",
   "metadata": {},
   "outputs": [
    {
     "data": {
      "text/plain": [
       "8"
      ]
     },
     "execution_count": 1,
     "metadata": {},
     "output_type": "execute_result"
    }
   ],
   "source": [
    "2 ** 3 \n",
    "\n",
    "# exponential"
   ]
  },
  {
   "cell_type": "code",
   "execution_count": 49,
   "id": "227ce92c",
   "metadata": {},
   "outputs": [
    {
     "data": {
      "text/plain": [
       "0"
      ]
     },
     "execution_count": 49,
     "metadata": {},
     "output_type": "execute_result"
    }
   ],
   "source": [
    "# modulo operator\n",
    "\n",
    "4 % 2"
   ]
  },
  {
   "cell_type": "code",
   "execution_count": 52,
   "id": "8d34e6dc",
   "metadata": {},
   "outputs": [
    {
     "data": {
      "text/plain": [
       "1"
      ]
     },
     "execution_count": 52,
     "metadata": {},
     "output_type": "execute_result"
    }
   ],
   "source": [
    "5 % 2"
   ]
  },
  {
   "cell_type": "code",
   "execution_count": 2,
   "id": "8ad56585",
   "metadata": {},
   "outputs": [
    {
     "data": {
      "text/plain": [
       "2"
      ]
     },
     "execution_count": 2,
     "metadata": {},
     "output_type": "execute_result"
    }
   ],
   "source": [
    "# floor division\n",
    "\n",
    "5 // 2"
   ]
  },
  {
   "cell_type": "code",
   "execution_count": 4,
   "id": "2645d999",
   "metadata": {},
   "outputs": [
    {
     "data": {
      "text/plain": [
       "3"
      ]
     },
     "execution_count": 4,
     "metadata": {},
     "output_type": "execute_result"
    }
   ],
   "source": [
    "10 // 3"
   ]
  },
  {
   "cell_type": "code",
   "execution_count": 10,
   "id": "2ae3b26f",
   "metadata": {},
   "outputs": [
    {
     "name": "stdout",
     "output_type": "stream",
     "text": [
      "No of hr :  8\n",
      "No of min :  20\n"
     ]
    }
   ],
   "source": [
    "duration = 500 \n",
    "\n",
    "no_of_hr = duration // 60\n",
    "\n",
    "no_of_min = duration % 60\n",
    "\n",
    "print('No of hr : ', no_of_hr)\n",
    "print('No of min : ', no_of_min)"
   ]
  },
  {
   "cell_type": "markdown",
   "id": "bc633b64",
   "metadata": {},
   "source": [
    "#### Comparison Operators"
   ]
  },
  {
   "cell_type": "code",
   "execution_count": 24,
   "id": "0eea80d3",
   "metadata": {},
   "outputs": [],
   "source": [
    "x = 4\n",
    "y = 5"
   ]
  },
  {
   "cell_type": "code",
   "execution_count": 14,
   "id": "d4d81f3e",
   "metadata": {},
   "outputs": [
    {
     "data": {
      "text/plain": [
       "True"
      ]
     },
     "execution_count": 14,
     "metadata": {},
     "output_type": "execute_result"
    }
   ],
   "source": [
    "x == y"
   ]
  },
  {
   "cell_type": "code",
   "execution_count": 15,
   "id": "3bd95044",
   "metadata": {},
   "outputs": [
    {
     "data": {
      "text/plain": [
       "False"
      ]
     },
     "execution_count": 15,
     "metadata": {},
     "output_type": "execute_result"
    }
   ],
   "source": [
    "x != y"
   ]
  },
  {
   "cell_type": "code",
   "execution_count": 16,
   "id": "09bb0304",
   "metadata": {},
   "outputs": [
    {
     "data": {
      "text/plain": [
       "False"
      ]
     },
     "execution_count": 16,
     "metadata": {},
     "output_type": "execute_result"
    }
   ],
   "source": [
    "x < y"
   ]
  },
  {
   "cell_type": "code",
   "execution_count": 19,
   "id": "522625ba",
   "metadata": {},
   "outputs": [
    {
     "data": {
      "text/plain": [
       "True"
      ]
     },
     "execution_count": 19,
     "metadata": {},
     "output_type": "execute_result"
    }
   ],
   "source": [
    "x > y"
   ]
  },
  {
   "cell_type": "code",
   "execution_count": 22,
   "id": "8b9ab14d",
   "metadata": {},
   "outputs": [
    {
     "data": {
      "text/plain": [
       "True"
      ]
     },
     "execution_count": 22,
     "metadata": {},
     "output_type": "execute_result"
    }
   ],
   "source": [
    "x <= y"
   ]
  },
  {
   "cell_type": "code",
   "execution_count": 26,
   "id": "1e0bb67c",
   "metadata": {},
   "outputs": [
    {
     "data": {
      "text/plain": [
       "False"
      ]
     },
     "execution_count": 26,
     "metadata": {},
     "output_type": "execute_result"
    }
   ],
   "source": [
    "x >= y"
   ]
  },
  {
   "cell_type": "markdown",
   "id": "ec4693bd",
   "metadata": {},
   "source": [
    "#### Logical Operators"
   ]
  },
  {
   "cell_type": "code",
   "execution_count": 27,
   "id": "34e48e5c",
   "metadata": {},
   "outputs": [
    {
     "data": {
      "text/plain": [
       "False"
      ]
     },
     "execution_count": 27,
     "metadata": {},
     "output_type": "execute_result"
    }
   ],
   "source": [
    "x = 10\n",
    "y = 5\n",
    "z = 7\n",
    "\n",
    "x < y and y < z"
   ]
  },
  {
   "cell_type": "code",
   "execution_count": 28,
   "id": "dfa6820d",
   "metadata": {},
   "outputs": [
    {
     "data": {
      "text/plain": [
       "False"
      ]
     },
     "execution_count": 28,
     "metadata": {},
     "output_type": "execute_result"
    }
   ],
   "source": [
    "4 == 5 and 5 < 6"
   ]
  },
  {
   "cell_type": "code",
   "execution_count": 29,
   "id": "6e218c2b",
   "metadata": {},
   "outputs": [
    {
     "data": {
      "text/plain": [
       "True"
      ]
     },
     "execution_count": 29,
     "metadata": {},
     "output_type": "execute_result"
    }
   ],
   "source": [
    "x < y or y < z "
   ]
  },
  {
   "cell_type": "markdown",
   "id": "60ca1a6b",
   "metadata": {},
   "source": [
    "#### Type Casting"
   ]
  },
  {
   "cell_type": "code",
   "execution_count": 30,
   "id": "7b87662c",
   "metadata": {},
   "outputs": [],
   "source": [
    "score = \"70\""
   ]
  },
  {
   "cell_type": "code",
   "execution_count": 31,
   "id": "e7b56297",
   "metadata": {},
   "outputs": [
    {
     "data": {
      "text/plain": [
       "str"
      ]
     },
     "execution_count": 31,
     "metadata": {},
     "output_type": "execute_result"
    }
   ],
   "source": [
    "type(score)"
   ]
  },
  {
   "cell_type": "code",
   "execution_count": 32,
   "id": "b2d1544c",
   "metadata": {},
   "outputs": [
    {
     "ename": "TypeError",
     "evalue": "can only concatenate str (not \"int\") to str",
     "output_type": "error",
     "traceback": [
      "\u001b[1;31m---------------------------------------------------------------------------\u001b[0m",
      "\u001b[1;31mTypeError\u001b[0m                                 Traceback (most recent call last)",
      "Cell \u001b[1;32mIn[32], line 1\u001b[0m\n\u001b[1;32m----> 1\u001b[0m score \u001b[38;5;241m+\u001b[39m \u001b[38;5;241m10\u001b[39m\n",
      "\u001b[1;31mTypeError\u001b[0m: can only concatenate str (not \"int\") to str"
     ]
    }
   ],
   "source": [
    "score + 10"
   ]
  },
  {
   "cell_type": "markdown",
   "id": "aaecd20c",
   "metadata": {},
   "source": [
    "#### Data Types and their constructor\n",
    "\n",
    "- Integer - int()\n",
    "- String - str()\n",
    "- float - float()\n",
    "- Boolean - bool()"
   ]
  },
  {
   "cell_type": "code",
   "execution_count": 33,
   "id": "89404230",
   "metadata": {},
   "outputs": [],
   "source": [
    "score = int(score)"
   ]
  },
  {
   "cell_type": "code",
   "execution_count": 35,
   "id": "c958bb9c",
   "metadata": {},
   "outputs": [
    {
     "data": {
      "text/plain": [
       "int"
      ]
     },
     "execution_count": 35,
     "metadata": {},
     "output_type": "execute_result"
    }
   ],
   "source": [
    "type(score)"
   ]
  },
  {
   "cell_type": "code",
   "execution_count": 36,
   "id": "8fb5fa08",
   "metadata": {},
   "outputs": [
    {
     "data": {
      "text/plain": [
       "80"
      ]
     },
     "execution_count": 36,
     "metadata": {},
     "output_type": "execute_result"
    }
   ],
   "source": [
    "score + 10"
   ]
  },
  {
   "cell_type": "code",
   "execution_count": 37,
   "id": "5c6628c9",
   "metadata": {},
   "outputs": [],
   "source": [
    "name = \"Deborah\""
   ]
  },
  {
   "cell_type": "code",
   "execution_count": 38,
   "id": "ec1a29c5",
   "metadata": {},
   "outputs": [
    {
     "ename": "ValueError",
     "evalue": "invalid literal for int() with base 10: 'Deborah'",
     "output_type": "error",
     "traceback": [
      "\u001b[1;31m---------------------------------------------------------------------------\u001b[0m",
      "\u001b[1;31mValueError\u001b[0m                                Traceback (most recent call last)",
      "Cell \u001b[1;32mIn[38], line 1\u001b[0m\n\u001b[1;32m----> 1\u001b[0m \u001b[38;5;28mint\u001b[39m(name)\n",
      "\u001b[1;31mValueError\u001b[0m: invalid literal for int() with base 10: 'Deborah'"
     ]
    }
   ],
   "source": [
    "int(name)"
   ]
  },
  {
   "cell_type": "code",
   "execution_count": 71,
   "id": "cfc563f0",
   "metadata": {},
   "outputs": [
    {
     "name": "stdout",
     "output_type": "stream",
     "text": [
      "enter the current price: 600\n",
      "The discounted price is 480.0\n",
      "The discounted price is 480.0\n",
      "The discounted price is 480.0\n"
     ]
    }
   ],
   "source": [
    "# User Input\n",
    "\n",
    "current_price = input(\"enter the current price: \") # create an input box and assign the value to current_price\n",
    "current_price = float(current_price) # cast the current_price and re-assign the value \n",
    "discounted_price = current_price * 0.8 # \n",
    "print(\"The discounted price is\",discounted_price)\n",
    "print(f\"The discounted price is {discounted_price}\")\n",
    "print('The discounted price is {}'.format(discounted_price))"
   ]
  },
  {
   "cell_type": "markdown",
   "id": "11fe7e47",
   "metadata": {},
   "source": [
    "#### Exercise\n",
    "\n",
    "Using the input function, take the exam score and test score of a student and return the total score"
   ]
  },
  {
   "cell_type": "code",
   "execution_count": 50,
   "id": "7e1ce880",
   "metadata": {},
   "outputs": [
    {
     "name": "stdout",
     "output_type": "stream",
     "text": [
      "Enter your exam score : 50\n",
      "Enter your test score : 30\n",
      "80\n"
     ]
    }
   ],
   "source": [
    "exam_score = int(input('Enter your exam score : '))\n",
    "test_score = int(input('Enter your test score : '))\n",
    "total_score = exam_score + test_score\n",
    "print(total_score)"
   ]
  },
  {
   "cell_type": "markdown",
   "id": "c7ef9a44",
   "metadata": {},
   "source": [
    "#### Strings"
   ]
  },
  {
   "cell_type": "code",
   "execution_count": 51,
   "id": "ea84e0cd",
   "metadata": {},
   "outputs": [],
   "source": [
    "name = \"Debby\""
   ]
  },
  {
   "cell_type": "code",
   "execution_count": 52,
   "id": "bf078b0f",
   "metadata": {},
   "outputs": [
    {
     "data": {
      "text/plain": [
       "str"
      ]
     },
     "execution_count": 52,
     "metadata": {},
     "output_type": "execute_result"
    }
   ],
   "source": [
    "type(name)"
   ]
  },
  {
   "cell_type": "markdown",
   "id": "c7bf02c9",
   "metadata": {},
   "source": [
    "#### String Indexing"
   ]
  },
  {
   "cell_type": "code",
   "execution_count": 53,
   "id": "b0411616",
   "metadata": {},
   "outputs": [
    {
     "data": {
      "text/plain": [
       "'D'"
      ]
     },
     "execution_count": 53,
     "metadata": {},
     "output_type": "execute_result"
    }
   ],
   "source": [
    "name[0]"
   ]
  },
  {
   "cell_type": "code",
   "execution_count": 54,
   "id": "18a6848a",
   "metadata": {},
   "outputs": [
    {
     "data": {
      "text/plain": [
       "'y'"
      ]
     },
     "execution_count": 54,
     "metadata": {},
     "output_type": "execute_result"
    }
   ],
   "source": [
    "name[4]"
   ]
  },
  {
   "cell_type": "code",
   "execution_count": 55,
   "id": "58460306",
   "metadata": {},
   "outputs": [
    {
     "data": {
      "text/plain": [
       "'D'"
      ]
     },
     "execution_count": 55,
     "metadata": {},
     "output_type": "execute_result"
    }
   ],
   "source": [
    "name[-5]"
   ]
  },
  {
   "cell_type": "code",
   "execution_count": 56,
   "id": "ffb37edf",
   "metadata": {},
   "outputs": [
    {
     "data": {
      "text/plain": [
       "'b'"
      ]
     },
     "execution_count": 56,
     "metadata": {},
     "output_type": "execute_result"
    }
   ],
   "source": [
    "name[-3]"
   ]
  },
  {
   "cell_type": "markdown",
   "id": "871c137d",
   "metadata": {},
   "source": [
    "#### String Slicing"
   ]
  },
  {
   "cell_type": "code",
   "execution_count": 57,
   "id": "01adacf6",
   "metadata": {},
   "outputs": [],
   "source": [
    "text = \"My name is Onyinye\""
   ]
  },
  {
   "cell_type": "code",
   "execution_count": 58,
   "id": "28105b62",
   "metadata": {},
   "outputs": [
    {
     "data": {
      "text/plain": [
       "str"
      ]
     },
     "execution_count": 58,
     "metadata": {},
     "output_type": "execute_result"
    }
   ],
   "source": [
    "type(text)"
   ]
  },
  {
   "cell_type": "code",
   "execution_count": 61,
   "id": "ccb08462",
   "metadata": {},
   "outputs": [
    {
     "data": {
      "text/plain": [
       "'Onyinye'"
      ]
     },
     "execution_count": 61,
     "metadata": {},
     "output_type": "execute_result"
    }
   ],
   "source": [
    "text[11:18]"
   ]
  },
  {
   "cell_type": "code",
   "execution_count": 62,
   "id": "de17e5a9",
   "metadata": {},
   "outputs": [
    {
     "data": {
      "text/plain": [
       "'Onyinye'"
      ]
     },
     "execution_count": 62,
     "metadata": {},
     "output_type": "execute_result"
    }
   ],
   "source": [
    "text[11:]"
   ]
  },
  {
   "cell_type": "markdown",
   "id": "d95b87f9",
   "metadata": {},
   "source": [
    "#### Exercise\n",
    "\n",
    "Slice out 'name' from the text variable. Assign it to a new variable and print out the new variable"
   ]
  },
  {
   "cell_type": "code",
   "execution_count": 63,
   "id": "39e04bb4",
   "metadata": {},
   "outputs": [
    {
     "name": "stdout",
     "output_type": "stream",
     "text": [
      "name\n"
     ]
    }
   ],
   "source": [
    "name = text[3:7]\n",
    "print(name)"
   ]
  },
  {
   "cell_type": "code",
   "execution_count": 68,
   "id": "f3590166",
   "metadata": {},
   "outputs": [
    {
     "name": "stdout",
     "output_type": "stream",
     "text": [
      "The total score is 90\n",
      "The total score is 90\n",
      "The total score is 90\n"
     ]
    }
   ],
   "source": [
    "### String Formatting\n",
    "\n",
    "test_score = 40\n",
    "exam_score = 50\n",
    "\n",
    "total_score = test_score + exam_score\n",
    "\n",
    "\n",
    "# 1st Mtd\n",
    "print(\"The total score is\", total_score)\n",
    "\n",
    "# 2nd Mtd\n",
    "print(f\"The total score is {total_score}\")\n",
    "\n",
    "# 3rd Mtd\n",
    "print(\"The total score is {}\".format(total_score))"
   ]
  },
  {
   "cell_type": "code",
   "execution_count": 77,
   "id": "7a6fe38e",
   "metadata": {},
   "outputs": [
    {
     "name": "stdout",
     "output_type": "stream",
     "text": [
      "your test score is 40 and your exam score is 50\n"
     ]
    }
   ],
   "source": [
    "test_score = 40\n",
    "exam_score = 50\n",
    "\n",
    "print(\"your test score is\",test_score, \"and your exam score is\",exam_score)"
   ]
  },
  {
   "cell_type": "code",
   "execution_count": 78,
   "id": "5b7c010c",
   "metadata": {},
   "outputs": [
    {
     "name": "stdout",
     "output_type": "stream",
     "text": [
      "Your test score is 40 and your exam score is 50\n"
     ]
    }
   ],
   "source": [
    "print(f'Your test score is {test_score} and your exam score is {exam_score}')"
   ]
  },
  {
   "cell_type": "code",
   "execution_count": 80,
   "id": "4e66d21f",
   "metadata": {},
   "outputs": [
    {
     "name": "stdout",
     "output_type": "stream",
     "text": [
      "Your test score is 40 and your exam score is 50\n"
     ]
    }
   ],
   "source": [
    "print('Your test score is {} and your exam score is {}'.format(test_score, exam_score))"
   ]
  },
  {
   "cell_type": "markdown",
   "id": "54a0eb07",
   "metadata": {},
   "source": [
    "#### String Methods\n",
    "\n",
    "Methods are built-in functions that allow you to manipulate objects of a specific data type"
   ]
  },
  {
   "cell_type": "code",
   "execution_count": 81,
   "id": "7532bd91",
   "metadata": {},
   "outputs": [],
   "source": [
    "name = \"Deborah\"\n",
    "\n",
    "# name variable is an object of the string data type"
   ]
  },
  {
   "cell_type": "code",
   "execution_count": 87,
   "id": "e2c23299",
   "metadata": {},
   "outputs": [
    {
     "data": {
      "text/plain": [
       "['__add__',\n",
       " '__class__',\n",
       " '__contains__',\n",
       " '__delattr__',\n",
       " '__dir__',\n",
       " '__doc__',\n",
       " '__eq__',\n",
       " '__format__',\n",
       " '__ge__',\n",
       " '__getattribute__',\n",
       " '__getitem__',\n",
       " '__getnewargs__',\n",
       " '__getstate__',\n",
       " '__gt__',\n",
       " '__hash__',\n",
       " '__init__',\n",
       " '__init_subclass__',\n",
       " '__iter__',\n",
       " '__le__',\n",
       " '__len__',\n",
       " '__lt__',\n",
       " '__mod__',\n",
       " '__mul__',\n",
       " '__ne__',\n",
       " '__new__',\n",
       " '__reduce__',\n",
       " '__reduce_ex__',\n",
       " '__repr__',\n",
       " '__rmod__',\n",
       " '__rmul__',\n",
       " '__setattr__',\n",
       " '__sizeof__',\n",
       " '__str__',\n",
       " '__subclasshook__',\n",
       " 'capitalize',\n",
       " 'casefold',\n",
       " 'center',\n",
       " 'count',\n",
       " 'encode',\n",
       " 'endswith',\n",
       " 'expandtabs',\n",
       " 'find',\n",
       " 'format',\n",
       " 'format_map',\n",
       " 'index',\n",
       " 'isalnum',\n",
       " 'isalpha',\n",
       " 'isascii',\n",
       " 'isdecimal',\n",
       " 'isdigit',\n",
       " 'isidentifier',\n",
       " 'islower',\n",
       " 'isnumeric',\n",
       " 'isprintable',\n",
       " 'isspace',\n",
       " 'istitle',\n",
       " 'isupper',\n",
       " 'join',\n",
       " 'ljust',\n",
       " 'lower',\n",
       " 'lstrip',\n",
       " 'maketrans',\n",
       " 'partition',\n",
       " 'removeprefix',\n",
       " 'removesuffix',\n",
       " 'replace',\n",
       " 'rfind',\n",
       " 'rindex',\n",
       " 'rjust',\n",
       " 'rpartition',\n",
       " 'rsplit',\n",
       " 'rstrip',\n",
       " 'split',\n",
       " 'splitlines',\n",
       " 'startswith',\n",
       " 'strip',\n",
       " 'swapcase',\n",
       " 'title',\n",
       " 'translate',\n",
       " 'upper',\n",
       " 'zfill']"
      ]
     },
     "execution_count": 87,
     "metadata": {},
     "output_type": "execute_result"
    }
   ],
   "source": [
    "dir(name)"
   ]
  },
  {
   "cell_type": "code",
   "execution_count": 133,
   "id": "28389543",
   "metadata": {},
   "outputs": [],
   "source": [
    "name = 'DEBORAH'"
   ]
  },
  {
   "cell_type": "code",
   "execution_count": 134,
   "id": "0013ac58",
   "metadata": {},
   "outputs": [
    {
     "name": "stdout",
     "output_type": "stream",
     "text": [
      "DEBORAH\n"
     ]
    }
   ],
   "source": [
    "print(name)"
   ]
  },
  {
   "cell_type": "code",
   "execution_count": 136,
   "id": "4b785168",
   "metadata": {},
   "outputs": [],
   "source": [
    "name = name.lower() #re-assignment"
   ]
  },
  {
   "cell_type": "code",
   "execution_count": 102,
   "id": "e92b68c3",
   "metadata": {},
   "outputs": [
    {
     "name": "stdout",
     "output_type": "stream",
     "text": [
      "deborah\n"
     ]
    }
   ],
   "source": [
    "print(name)"
   ]
  },
  {
   "cell_type": "code",
   "execution_count": 92,
   "id": "63df3e76",
   "metadata": {},
   "outputs": [],
   "source": [
    "name = name.lstrip()"
   ]
  },
  {
   "cell_type": "code",
   "execution_count": 93,
   "id": "689924c7",
   "metadata": {},
   "outputs": [
    {
     "name": "stdout",
     "output_type": "stream",
     "text": [
      "DEBORAH\n"
     ]
    }
   ],
   "source": [
    "print(name)"
   ]
  },
  {
   "cell_type": "code",
   "execution_count": 103,
   "id": "75f92369",
   "metadata": {},
   "outputs": [],
   "source": [
    "amount = \"N 400\""
   ]
  },
  {
   "cell_type": "code",
   "execution_count": 105,
   "id": "5145c8fd",
   "metadata": {},
   "outputs": [],
   "source": [
    "amount = amount.replace(\"N \", \"\")"
   ]
  },
  {
   "cell_type": "code",
   "execution_count": 106,
   "id": "8238a3a3",
   "metadata": {},
   "outputs": [
    {
     "data": {
      "text/plain": [
       "'400'"
      ]
     },
     "execution_count": 106,
     "metadata": {},
     "output_type": "execute_result"
    }
   ],
   "source": [
    "amount"
   ]
  },
  {
   "cell_type": "code",
   "execution_count": 107,
   "id": "c311f9f6",
   "metadata": {
    "scrolled": true
   },
   "outputs": [
    {
     "data": {
      "text/plain": [
       "400"
      ]
     },
     "execution_count": 107,
     "metadata": {},
     "output_type": "execute_result"
    }
   ],
   "source": [
    "int(amount)"
   ]
  },
  {
   "cell_type": "code",
   "execution_count": 111,
   "id": "c2754970",
   "metadata": {},
   "outputs": [
    {
     "name": "stdout",
     "output_type": "stream",
     "text": [
      "gender_one : male\n",
      "gender two : male\n"
     ]
    }
   ],
   "source": [
    "gender_one = \" MaLE\"\n",
    "gender_two = \"maLLE\"\n",
    "\n",
    "# Method chaining\n",
    "gender_one = gender_one.replace(\" \", \"\").lower()\n",
    "print(f'gender_one : {gender_one}')\n",
    "\n",
    "gender_two = gender_two.replace(\"maLLE\", \"male\")\n",
    "print(f'gender two : {gender_two}')"
   ]
  },
  {
   "cell_type": "code",
   "execution_count": 153,
   "id": "4c16ec7a",
   "metadata": {},
   "outputs": [
    {
     "data": {
      "text/plain": [
       "'MaLE'"
      ]
     },
     "execution_count": 153,
     "metadata": {},
     "output_type": "execute_result"
    }
   ],
   "source": [
    "gender_one = \" MaLE\"\n",
    "\n",
    "gender_one.replace(\" \", \"\")"
   ]
  },
  {
   "cell_type": "code",
   "execution_count": 115,
   "id": "8a8c87c8",
   "metadata": {},
   "outputs": [
    {
     "name": "stdout",
     "output_type": "stream",
     "text": [
      "Fisayo Olupitan\n"
     ]
    }
   ],
   "source": [
    "## String Concatenation\n",
    "\n",
    "## + operator is used for concatenation\n",
    "\n",
    "first_name = \"Fisayo\"\n",
    "\n",
    "last_name = \"Olupitan\"\n",
    "\n",
    "full_name = first_name + \" \" + last_name\n",
    "\n",
    "print(full_name)"
   ]
  },
  {
   "cell_type": "markdown",
   "id": "6716c87c",
   "metadata": {},
   "source": [
    "#### Sequence Data Types \n",
    "\n",
    "provide a way for us to store multiple values at the same time\n",
    "\n",
    "- List\n",
    "\n",
    "- Tuple \n",
    "\n",
    "- Set \n",
    "\n",
    "- Dictionary"
   ]
  },
  {
   "cell_type": "code",
   "execution_count": 142,
   "id": "142db02d",
   "metadata": {},
   "outputs": [],
   "source": [
    "# List \n",
    "\n",
    "names = [\"Debby\", 'Fisayo', 'Fidelis', 'Onyinye', 'Ada']"
   ]
  },
  {
   "cell_type": "code",
   "execution_count": 117,
   "id": "128092fa",
   "metadata": {},
   "outputs": [
    {
     "data": {
      "text/plain": [
       "list"
      ]
     },
     "execution_count": 117,
     "metadata": {},
     "output_type": "execute_result"
    }
   ],
   "source": [
    "type(names)"
   ]
  },
  {
   "cell_type": "code",
   "execution_count": 118,
   "id": "e95400b1",
   "metadata": {},
   "outputs": [],
   "source": [
    "scores = [60, 67, 60, 78, 50]"
   ]
  },
  {
   "cell_type": "code",
   "execution_count": 119,
   "id": "386b48ef",
   "metadata": {},
   "outputs": [
    {
     "data": {
      "text/plain": [
       "list"
      ]
     },
     "execution_count": 119,
     "metadata": {},
     "output_type": "execute_result"
    }
   ],
   "source": [
    "type(scores)"
   ]
  },
  {
   "cell_type": "code",
   "execution_count": 120,
   "id": "383af843",
   "metadata": {},
   "outputs": [
    {
     "data": {
      "text/plain": [
       "'Debby'"
      ]
     },
     "execution_count": 120,
     "metadata": {},
     "output_type": "execute_result"
    }
   ],
   "source": [
    "# Ordered \n",
    "\n",
    "names[0]"
   ]
  },
  {
   "cell_type": "code",
   "execution_count": 121,
   "id": "427709e6",
   "metadata": {},
   "outputs": [
    {
     "data": {
      "text/plain": [
       "'Onyinye'"
      ]
     },
     "execution_count": 121,
     "metadata": {},
     "output_type": "execute_result"
    }
   ],
   "source": [
    "names[3]"
   ]
  },
  {
   "cell_type": "code",
   "execution_count": 122,
   "id": "72a233aa",
   "metadata": {},
   "outputs": [
    {
     "data": {
      "text/plain": [
       "'Debby'"
      ]
     },
     "execution_count": 122,
     "metadata": {},
     "output_type": "execute_result"
    }
   ],
   "source": [
    "names[-5]"
   ]
  },
  {
   "cell_type": "code",
   "execution_count": 123,
   "id": "a80cd40b",
   "metadata": {},
   "outputs": [
    {
     "data": {
      "text/plain": [
       "['__add__',\n",
       " '__class__',\n",
       " '__class_getitem__',\n",
       " '__contains__',\n",
       " '__delattr__',\n",
       " '__delitem__',\n",
       " '__dir__',\n",
       " '__doc__',\n",
       " '__eq__',\n",
       " '__format__',\n",
       " '__ge__',\n",
       " '__getattribute__',\n",
       " '__getitem__',\n",
       " '__getstate__',\n",
       " '__gt__',\n",
       " '__hash__',\n",
       " '__iadd__',\n",
       " '__imul__',\n",
       " '__init__',\n",
       " '__init_subclass__',\n",
       " '__iter__',\n",
       " '__le__',\n",
       " '__len__',\n",
       " '__lt__',\n",
       " '__mul__',\n",
       " '__ne__',\n",
       " '__new__',\n",
       " '__reduce__',\n",
       " '__reduce_ex__',\n",
       " '__repr__',\n",
       " '__reversed__',\n",
       " '__rmul__',\n",
       " '__setattr__',\n",
       " '__setitem__',\n",
       " '__sizeof__',\n",
       " '__str__',\n",
       " '__subclasshook__',\n",
       " 'append',\n",
       " 'clear',\n",
       " 'copy',\n",
       " 'count',\n",
       " 'extend',\n",
       " 'index',\n",
       " 'insert',\n",
       " 'pop',\n",
       " 'remove',\n",
       " 'reverse',\n",
       " 'sort']"
      ]
     },
     "execution_count": 123,
     "metadata": {},
     "output_type": "execute_result"
    }
   ],
   "source": [
    "# mutable - the values can change\n",
    "\n",
    "dir(names)"
   ]
  },
  {
   "cell_type": "code",
   "execution_count": 143,
   "id": "eb54dfc1",
   "metadata": {},
   "outputs": [],
   "source": [
    "names.append('Funmi')"
   ]
  },
  {
   "cell_type": "code",
   "execution_count": 144,
   "id": "d2a43759",
   "metadata": {},
   "outputs": [
    {
     "data": {
      "text/plain": [
       "['Debby', 'Fisayo', 'Fidelis', 'Onyinye', 'Ada', 'Funmi']"
      ]
     },
     "execution_count": 144,
     "metadata": {},
     "output_type": "execute_result"
    }
   ],
   "source": [
    "names"
   ]
  },
  {
   "cell_type": "code",
   "execution_count": 145,
   "id": "4507f13d",
   "metadata": {},
   "outputs": [],
   "source": [
    "names.remove(\"Debby\")"
   ]
  },
  {
   "cell_type": "code",
   "execution_count": 146,
   "id": "0f51ebc6",
   "metadata": {},
   "outputs": [
    {
     "data": {
      "text/plain": [
       "['Fisayo', 'Fidelis', 'Onyinye', 'Ada', 'Funmi']"
      ]
     },
     "execution_count": 146,
     "metadata": {},
     "output_type": "execute_result"
    }
   ],
   "source": [
    "names"
   ]
  },
  {
   "cell_type": "code",
   "execution_count": 148,
   "id": "878d824f",
   "metadata": {},
   "outputs": [],
   "source": [
    "popped_name = names.pop()"
   ]
  },
  {
   "cell_type": "code",
   "execution_count": 149,
   "id": "3bc9944e",
   "metadata": {},
   "outputs": [
    {
     "data": {
      "text/plain": [
       "['Fisayo', 'Fidelis', 'Onyinye']"
      ]
     },
     "execution_count": 149,
     "metadata": {},
     "output_type": "execute_result"
    }
   ],
   "source": [
    "names"
   ]
  },
  {
   "cell_type": "code",
   "execution_count": 150,
   "id": "3d2a3db5",
   "metadata": {},
   "outputs": [
    {
     "data": {
      "text/plain": [
       "'Ada'"
      ]
     },
     "execution_count": 150,
     "metadata": {},
     "output_type": "execute_result"
    }
   ],
   "source": [
    "popped_name"
   ]
  },
  {
   "cell_type": "code",
   "execution_count": 151,
   "id": "1ed4a063",
   "metadata": {},
   "outputs": [
    {
     "data": {
      "text/plain": [
       "[60, 67, 60, 78, 50]"
      ]
     },
     "execution_count": 151,
     "metadata": {},
     "output_type": "execute_result"
    }
   ],
   "source": [
    "scores"
   ]
  },
  {
   "cell_type": "code",
   "execution_count": 154,
   "id": "42340e63",
   "metadata": {},
   "outputs": [
    {
     "name": "stdout",
     "output_type": "stream",
     "text": [
      "95\n",
      "[67, 60, 78, 50, 90]\n"
     ]
    }
   ],
   "source": [
    "scores.append(95)\n",
    "\n",
    "scores.remove(60)\n",
    "\n",
    "pop_item = scores.pop()\n",
    "\n",
    "print(pop_item)\n",
    "print(scores)"
   ]
  },
  {
   "cell_type": "code",
   "execution_count": 155,
   "id": "ea8359c9",
   "metadata": {},
   "outputs": [],
   "source": [
    "## List can have duplicates"
   ]
  },
  {
   "cell_type": "markdown",
   "id": "0372a8d4",
   "metadata": {},
   "source": [
    "#### Tuple"
   ]
  },
  {
   "cell_type": "code",
   "execution_count": 166,
   "id": "2acd4111",
   "metadata": {},
   "outputs": [],
   "source": [
    "fruits = (\"apple\", \"pineapple\", \"banana\", \"guava\",\"apple\")"
   ]
  },
  {
   "cell_type": "code",
   "execution_count": 167,
   "id": "5eb3354b",
   "metadata": {},
   "outputs": [
    {
     "data": {
      "text/plain": [
       "tuple"
      ]
     },
     "execution_count": 167,
     "metadata": {},
     "output_type": "execute_result"
    }
   ],
   "source": [
    "type(fruits)"
   ]
  },
  {
   "cell_type": "code",
   "execution_count": 168,
   "id": "dc79ea9f",
   "metadata": {},
   "outputs": [
    {
     "data": {
      "text/plain": [
       "'apple'"
      ]
     },
     "execution_count": 168,
     "metadata": {},
     "output_type": "execute_result"
    }
   ],
   "source": [
    "# it is ordered\n",
    "\n",
    "fruits[0]"
   ]
  },
  {
   "cell_type": "code",
   "execution_count": 169,
   "id": "3419c2d1",
   "metadata": {},
   "outputs": [
    {
     "data": {
      "text/plain": [
       "'guava'"
      ]
     },
     "execution_count": 169,
     "metadata": {},
     "output_type": "execute_result"
    }
   ],
   "source": [
    "fruits[-2]"
   ]
  },
  {
   "cell_type": "code",
   "execution_count": 170,
   "id": "ba8f1c0f",
   "metadata": {},
   "outputs": [
    {
     "data": {
      "text/plain": [
       "('apple', 'pineapple')"
      ]
     },
     "execution_count": 170,
     "metadata": {},
     "output_type": "execute_result"
    }
   ],
   "source": [
    "fruits[0:2]"
   ]
  },
  {
   "cell_type": "code",
   "execution_count": 171,
   "id": "c0babee6",
   "metadata": {},
   "outputs": [
    {
     "data": {
      "text/plain": [
       "('apple', 'pineapple')"
      ]
     },
     "execution_count": 171,
     "metadata": {},
     "output_type": "execute_result"
    }
   ],
   "source": [
    "fruits[:2]"
   ]
  },
  {
   "cell_type": "code",
   "execution_count": 172,
   "id": "142741d0",
   "metadata": {},
   "outputs": [
    {
     "data": {
      "text/plain": [
       "['__add__',\n",
       " '__class__',\n",
       " '__class_getitem__',\n",
       " '__contains__',\n",
       " '__delattr__',\n",
       " '__dir__',\n",
       " '__doc__',\n",
       " '__eq__',\n",
       " '__format__',\n",
       " '__ge__',\n",
       " '__getattribute__',\n",
       " '__getitem__',\n",
       " '__getnewargs__',\n",
       " '__getstate__',\n",
       " '__gt__',\n",
       " '__hash__',\n",
       " '__init__',\n",
       " '__init_subclass__',\n",
       " '__iter__',\n",
       " '__le__',\n",
       " '__len__',\n",
       " '__lt__',\n",
       " '__mul__',\n",
       " '__ne__',\n",
       " '__new__',\n",
       " '__reduce__',\n",
       " '__reduce_ex__',\n",
       " '__repr__',\n",
       " '__rmul__',\n",
       " '__setattr__',\n",
       " '__sizeof__',\n",
       " '__str__',\n",
       " '__subclasshook__',\n",
       " 'count',\n",
       " 'index']"
      ]
     },
     "execution_count": 172,
     "metadata": {},
     "output_type": "execute_result"
    }
   ],
   "source": [
    "# it is not mutable\n",
    "\n",
    "dir(fruits)"
   ]
  },
  {
   "cell_type": "code",
   "execution_count": 173,
   "id": "e8e7c148",
   "metadata": {},
   "outputs": [
    {
     "data": {
      "text/plain": [
       "2"
      ]
     },
     "execution_count": 173,
     "metadata": {},
     "output_type": "execute_result"
    }
   ],
   "source": [
    "fruits.count('apple')"
   ]
  },
  {
   "cell_type": "markdown",
   "id": "ebf66106",
   "metadata": {},
   "source": [
    "#### cast tuple to a list\n",
    "\n",
    "- tuple : tuple()\n",
    "- list : list()"
   ]
  },
  {
   "cell_type": "code",
   "execution_count": 174,
   "id": "c5df1177",
   "metadata": {},
   "outputs": [],
   "source": [
    "fruits = list(fruits)"
   ]
  },
  {
   "cell_type": "code",
   "execution_count": 175,
   "id": "65c6cb1d",
   "metadata": {},
   "outputs": [
    {
     "data": {
      "text/plain": [
       "['apple', 'pineapple', 'banana', 'guava', 'apple']"
      ]
     },
     "execution_count": 175,
     "metadata": {},
     "output_type": "execute_result"
    }
   ],
   "source": [
    "fruits"
   ]
  },
  {
   "cell_type": "markdown",
   "id": "cc465ec1",
   "metadata": {},
   "source": [
    "#### Exercise \n",
    "\n",
    "Create 1 variables. The variable should be a list of numbers. Sort the numbers and print a new list"
   ]
  },
  {
   "cell_type": "code",
   "execution_count": 179,
   "id": "53aca47c",
   "metadata": {},
   "outputs": [
    {
     "name": "stdout",
     "output_type": "stream",
     "text": [
      "The new list is : [3, 5, 8, 10, 12, 13]\n"
     ]
    }
   ],
   "source": [
    "list_of_numbers = [3,5,12,13,8,10]\n",
    "\n",
    "list_of_numbers.sort()\n",
    "\n",
    "new_list = list_of_numbers\n",
    "\n",
    "print(f'The new list is : {new_list}')"
   ]
  },
  {
   "cell_type": "code",
   "execution_count": 177,
   "id": "b3a50a3f",
   "metadata": {},
   "outputs": [],
   "source": [
    "list_of_numbers.sort()"
   ]
  },
  {
   "cell_type": "code",
   "execution_count": null,
   "id": "2493244e",
   "metadata": {},
   "outputs": [],
   "source": []
  }
 ],
 "metadata": {
  "kernelspec": {
   "display_name": "Python 3 (ipykernel)",
   "language": "python",
   "name": "python3"
  },
  "language_info": {
   "codemirror_mode": {
    "name": "ipython",
    "version": 3
   },
   "file_extension": ".py",
   "mimetype": "text/x-python",
   "name": "python",
   "nbconvert_exporter": "python",
   "pygments_lexer": "ipython3",
   "version": "3.11.5"
  }
 },
 "nbformat": 4,
 "nbformat_minor": 5
}
